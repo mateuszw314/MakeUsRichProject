{
 "cells": [
  {
   "cell_type": "code",
   "execution_count": 2,
   "metadata": {
    "collapsed": true
   },
   "outputs": [
    {
     "name": "stderr",
     "output_type": "stream",
     "text": [
      "C:\\Users\\s202399\\.conda\\envs\\Data\\lib\\site-packages\\tqdm\\auto.py:22: TqdmWarning: IProgress not found. Please update jupyter and ipywidgets. See https://ipywidgets.readthedocs.io/en/stable/user_install.html\n",
      "  from .autonotebook import tqdm as notebook_tqdm\n"
     ]
    }
   ],
   "source": [
    "import torch\n",
    "from torch.utils.data import Dataset\n",
    "from torch.utils.data import DataLoader\n",
    "\n",
    "import pyro\n",
    "import pyro.distributions as dist\n",
    "import pyro.poutine as poutine\n",
    "from pyro.contrib.forecast import ForecastingModel, Forecaster, backtest, eval_crps\n",
    "from pyro.infer.reparam import LocScaleReparam, StableReparam\n",
    "from pyro.ops.tensor_utils import periodic_cumsum, periodic_repeat, periodic_features\n",
    "from pyro.ops.stats import quantile\n",
    "import matplotlib.pyplot as plt\n",
    "import pandas as pd\n",
    "import numpy as np\n",
    "import os\n",
    "plt.style.use('ggplot')"
   ]
  },
  {
   "cell_type": "code",
   "execution_count": 3,
   "outputs": [],
   "source": [
    "df_price = pd.read_csv('../data/BTC-USD.csv', parse_dates=True)\n",
    "# df_price = df_price[1000:]\n",
    "df_price['Adj Close'] = np.log(df_price['Adj Close'])\n",
    "data = torch.tensor(df_price['Adj Close'].values.astype(float))"
   ],
   "metadata": {
    "collapsed": false,
    "pycharm": {
     "name": "#%%\n"
    }
   }
  },
  {
   "cell_type": "code",
   "execution_count": 4,
   "outputs": [],
   "source": [
    "# df_price = pd.read_csv('../data/euro-daily-hist_1999_2022.csv', parse_dates=True)\n",
    "# # data = torch.tensor(df_price['[Danish krone ]'].values.astype(float))\n",
    "# df_price = df_price.set_index('Period\\\\Unit:')\n",
    "# df_price.index = pd.to_datetime(df_price.index)"
   ],
   "metadata": {
    "collapsed": false,
    "pycharm": {
     "name": "#%%\n"
    }
   }
  },
  {
   "cell_type": "code",
   "execution_count": 5,
   "outputs": [],
   "source": [
    "# df_price = df_price['2022-03-25':'2014-09-17'].sort_index()\n",
    "# data = torch.tensor(df_price['[Danish krone ]'].values.astype(float))"
   ],
   "metadata": {
    "collapsed": false,
    "pycharm": {
     "name": "#%%\n"
    }
   }
  },
  {
   "cell_type": "code",
   "execution_count": 6,
   "outputs": [],
   "source": [
    "data = data.unsqueeze(-1)"
   ],
   "metadata": {
    "collapsed": false,
    "pycharm": {
     "name": "#%%\n"
    }
   }
  },
  {
   "cell_type": "code",
   "execution_count": 6,
   "outputs": [],
   "source": [],
   "metadata": {
    "collapsed": false,
    "pycharm": {
     "name": "#%%\n"
    }
   }
  },
  {
   "cell_type": "code",
   "execution_count": 7,
   "outputs": [
    {
     "data": {
      "text/plain": "[<matplotlib.lines.Line2D at 0x25a63b91f48>]"
     },
     "execution_count": 7,
     "metadata": {},
     "output_type": "execute_result"
    },
    {
     "data": {
      "text/plain": "<Figure size 432x288 with 1 Axes>",
      "image/png": "[encoded data removed]"
     },
     "metadata": {},
     "output_type": "display_data"
    }
   ],
   "source": [
    "plt.plot(data)"
   ],
   "metadata": {
    "collapsed": false,
    "pycharm": {
     "name": "#%%\n"
    }
   }
  },
  {
   "cell_type": "code",
   "execution_count": 8,
   "outputs": [],
   "source": [
    "T0 = 0\n",
    "T1 = data.size(-2)-30\n",
    "T2 = data.size()[0]"
   ],
   "metadata": {
    "collapsed": false,
    "pycharm": {
     "name": "#%%\n"
    }
   }
  },
  {
   "cell_type": "code",
   "execution_count": 17,
   "outputs": [
    {
     "data": {
      "text/plain": "[<matplotlib.lines.Line2D at 0x25a65735908>]"
     },
     "execution_count": 17,
     "metadata": {},
     "output_type": "execute_result"
    },
    {
     "data": {
      "text/plain": "<Figure size 432x288 with 1 Axes>",
      "image/png": "[encoded data removed]"
     },
     "metadata": {},
     "output_type": "display_data"
    }
   ],
   "source": [
    "plt.plot(data)"
   ],
   "metadata": {
    "collapsed": false,
    "pycharm": {
     "name": "#%%\n"
    }
   }
  },
  {
   "cell_type": "code",
   "execution_count": 10,
   "outputs": [],
   "source": [
    "class Model1(ForecastingModel):\n",
    "    # We then implement the .model() method. Since this is a generative model, it shouldn't\n",
    "    # look at data; however it is convenient to see the shape of data we're supposed to\n",
    "    # generate, so this inputs a zeros_like(data) tensor instead of the actual data.\n",
    "    def model(self, zero_data, covariates):\n",
    "        data_dim = zero_data.size(-1)  # Should be 1 in this univariate tutorial.\n",
    "        feature_dim = covariates.size(-1)\n",
    "\n",
    "        # The first part of the model is a probabilistic program to create a prediction.\n",
    "        # We use the zero_data as a template for the shape of the prediction.\n",
    "        bias = pyro.sample(\"bias\", dist.Normal(0, 10).expand([data_dim]).to_event(1))\n",
    "        weight = pyro.sample(\"weight\", dist.Normal(0, 0.1).expand([feature_dim]).to_event(1))\n",
    "        prediction = bias + (weight * covariates).sum(-1, keepdim=True)\n",
    "        # The prediction should have the same shape as zero_data (duration, obs_dim),\n",
    "        # but may have additional sample dimensions on the left.\n",
    "        assert prediction.shape[-2:] == zero_data.shape\n",
    "\n",
    "        # The next part of the model creates a likelihood or noise distribution.\n",
    "        # Again we'll be Bayesian and write this as a probabilistic program with\n",
    "        # priors over parameters.\n",
    "        noise_scale = pyro.sample(\"noise_scale\", dist.LogNormal(-5, 5).expand([1]).to_event(1))\n",
    "        noise_dist = dist.Normal(0, noise_scale)\n",
    "\n",
    "        # The final step is to call the .predict() method.\n",
    "        self.predict(noise_dist, prediction)\n",
    "\n"
   ],
   "metadata": {
    "collapsed": false,
    "pycharm": {
     "name": "#%%\n"
    }
   }
  },
  {
   "cell_type": "code",
   "execution_count": 11,
   "outputs": [
    {
     "name": "stdout",
     "output_type": "stream",
     "text": [
      "Wall time: 15.6 ms\n"
     ]
    }
   ],
   "source": [
    "%%time\n",
    "pyro.set_rng_seed(1)\n",
    "pyro.clear_param_store()\n",
    "time = torch.arange(float(len(data))) / 365\n",
    "covariates = torch.cat([time.unsqueeze(-1),\n",
    "                        periodic_features(T2, 365.25 / 7)], dim=-1)"
   ],
   "metadata": {
    "collapsed": false,
    "pycharm": {
     "name": "#%%\n"
    }
   }
  },
  {
   "cell_type": "code",
   "execution_count": 12,
   "outputs": [
    {
     "name": "stderr",
     "output_type": "stream",
     "text": [
      "INFO \t step    0 loss = 4399.65\n",
      "INFO \t step  100 loss = 0.905545\n",
      "INFO \t step  200 loss = 0.899171\n",
      "INFO \t step  300 loss = 0.885072\n",
      "INFO \t step  400 loss = 0.880112\n",
      "INFO \t step  500 loss = 0.876572\n",
      "INFO \t step  600 loss = 0.874289\n",
      "INFO \t step  700 loss = 0.868984\n",
      "INFO \t step  800 loss = 0.869827\n",
      "INFO \t step  900 loss = 0.869277\n",
      "INFO \t step 1000 loss = 0.868117\n"
     ]
    }
   ],
   "source": [
    "forecaster = Forecaster(Model1(), data[:T1], covariates[:T1], learning_rate=0.1)"
   ],
   "metadata": {
    "collapsed": false,
    "pycharm": {
     "name": "#%%\n"
    }
   }
  },
  {
   "cell_type": "code",
   "execution_count": 13,
   "outputs": [
    {
     "name": "stdout",
     "output_type": "stream",
     "text": [
      "torch.Size([1000, 30, 1]) torch.Size([30])\n"
     ]
    },
    {
     "data": {
      "text/plain": "(2700.0, 2883.3)"
     },
     "execution_count": 13,
     "metadata": {},
     "output_type": "execute_result"
    },
    {
     "data": {
      "text/plain": "<Figure size 648x216 with 1 Axes>",
      "image/png": "[encoded data removed]"
     },
     "metadata": {},
     "output_type": "display_data"
    }
   ],
   "source": [
    "plt.style.use('ggplot')\n",
    "\n",
    "samples = forecaster(data[:T1], covariates, num_samples=1000)\n",
    "p10, p50, p90 = quantile(samples, (0.1, 0.5, 0.9)).squeeze(-1)\n",
    "crps = eval_crps(samples, data[T1:])\n",
    "print(samples.shape, p10.shape)\n",
    "\n",
    "plt.figure(figsize=(9, 3))\n",
    "plt.fill_between(torch.arange(T1, T2), p10, p90, color=\"red\", alpha=0.3)\n",
    "plt.plot(torch.arange(T1, T2), p50, 'r-', label='forecast')\n",
    "plt.plot(data, 'k-', label='truth')\n",
    "plt.xlim(2700, None)"
   ],
   "metadata": {
    "collapsed": false,
    "pycharm": {
     "name": "#%%\n"
    }
   }
  },
  {
   "cell_type": "code",
   "execution_count": 14,
   "outputs": [],
   "source": [
    "class Model2(ForecastingModel):\n",
    "    def model(self, zero_data, covariates):\n",
    "        data_dim = zero_data.size(-1)\n",
    "        feature_dim = covariates.size(-1)\n",
    "        bias = pyro.sample(\"bias\", dist.Normal(0, 10).expand([data_dim]).to_event(1))\n",
    "        weight = pyro.sample(\"weight\", dist.Normal(0, 0.1).expand([feature_dim]).to_event(1))\n",
    "\n",
    "        # We'll sample a time-global scale parameter outside the time plate,\n",
    "        # then time-local iid noise inside the time plate.\n",
    "        drift_scale = pyro.sample(\"drift_scale\",\n",
    "                                  dist.LogNormal(-20, 5).expand([1]).to_event(1))\n",
    "        with self.time_plate:\n",
    "            # We'll use a reparameterizer to improve variational fit. The model would still be\n",
    "            # correct if you removed this context manager, but the fit appears to be worse.\n",
    "            with poutine.reparam(config={\"drift\": LocScaleReparam()}):\n",
    "                drift = pyro.sample(\"drift\", dist.Normal(zero_data, drift_scale).to_event(1))\n",
    "\n",
    "        # After we sample the iid \"drift\" noise we can combine it in any time-dependent way.\n",
    "        # It is important to keep everything inside the plate independent and apply dependent\n",
    "        # transforms outside the plate.\n",
    "        motion = drift.cumsum(-2)  # A Brownian motion.\n",
    "\n",
    "        # The prediction now includes three terms.\n",
    "        prediction = motion + bias + (weight * covariates).sum(-1, keepdim=True)\n",
    "        assert prediction.shape[-2:] == zero_data.shape\n",
    "\n",
    "        # Construct the noise distribution and predict.\n",
    "        noise_scale = pyro.sample(\"noise_scale\", dist.LogNormal(-5, 5).expand([1]).to_event(1))\n",
    "        noise_dist = dist.Normal(0, noise_scale)\n",
    "        self.predict(noise_dist, prediction)"
   ],
   "metadata": {
    "collapsed": false,
    "pycharm": {
     "name": "#%%\n"
    }
   }
  },
  {
   "cell_type": "code",
   "execution_count": 15,
   "outputs": [
    {
     "name": "stderr",
     "output_type": "stream",
     "text": [
      "C:\\Users\\s202399\\.conda\\envs\\Data\\lib\\site-packages\\pyro\\poutine\\reparam_messenger.py:116: RuntimeWarning: At pyro.sample('drift_decentered',...), HaarReparam does not commute with initialization; falling back to default initialization.\n",
      "  RuntimeWarning,\n",
      "INFO \t step    0 loss = 2.81631e+09\n",
      "INFO \t step  100 loss = 1.99785\n",
      "INFO \t step  200 loss = 2.51636\n",
      "INFO \t step  300 loss = 1.48576\n",
      "INFO \t step  400 loss = 1.03991\n",
      "INFO \t step  500 loss = 1.65298\n",
      "INFO \t step  600 loss = 1.19005\n",
      "INFO \t step  700 loss = 1.34652\n",
      "INFO \t step  800 loss = 1.22345\n",
      "INFO \t step  900 loss = 1.05944\n",
      "INFO \t step 1000 loss = 1.42255\n",
      "INFO \t step 1100 loss = 1.17084\n",
      "INFO \t step 1200 loss = 3.16749\n",
      "INFO \t step 1300 loss = 1.62329\n",
      "INFO \t step 1400 loss = 0.849058\n",
      "INFO \t step 1500 loss = 0.985529\n",
      "INFO \t step 1600 loss = 3.20104\n",
      "INFO \t step 1700 loss = 0.741986\n",
      "INFO \t step 1800 loss = 0.975313\n",
      "INFO \t step 1900 loss = 1.1137\n",
      "INFO \t step 2000 loss = 2.04266\n",
      "INFO \t step 2100 loss = 0.71713\n",
      "INFO \t step 2200 loss = 0.809581\n",
      "INFO \t step 2300 loss = 0.727129\n",
      "INFO \t step 2400 loss = 0.697209\n",
      "INFO \t step 2500 loss = 1.02252\n",
      "INFO \t step 2600 loss = 0.427864\n",
      "INFO \t step 2700 loss = 0.410122\n",
      "INFO \t step 2800 loss = 0.542219\n",
      "INFO \t step 2900 loss = 0.869147\n",
      "INFO \t step 3000 loss = 0.603063\n",
      "INFO \t step 3100 loss = 0.548798\n",
      "INFO \t step 3200 loss = 0.336653\n",
      "INFO \t step 3300 loss = 1.20837\n",
      "INFO \t step 3400 loss = 0.331129\n",
      "INFO \t step 3500 loss = 0.760342\n",
      "INFO \t step 3600 loss = 0.797221\n",
      "INFO \t step 3700 loss = 4.25831\n",
      "INFO \t step 3800 loss = 0.583484\n",
      "INFO \t step 3900 loss = 0.719278\n",
      "INFO \t step 4000 loss = 0.213525\n",
      "INFO \t step 4100 loss = 0.809449\n",
      "INFO \t step 4200 loss = 0.773218\n",
      "INFO \t step 4300 loss = 0.408764\n",
      "INFO \t step 4400 loss = 1.40691\n",
      "INFO \t step 4500 loss = 0.504519\n",
      "INFO \t step 4600 loss = 0.287934\n",
      "INFO \t step 4700 loss = 0.0307746\n",
      "INFO \t step 4800 loss = 0.666427\n",
      "INFO \t step 4900 loss = 0.166167\n",
      "INFO \t step 5000 loss = 0.109692\n",
      "INFO \t step 5100 loss = 0.0541549\n",
      "INFO \t step 5200 loss = 0.175167\n",
      "INFO \t step 5300 loss = 0.135483\n",
      "INFO \t step 5400 loss = 0.0896979\n",
      "INFO \t step 5500 loss = -0.157768\n",
      "INFO \t step 5600 loss = 0.0872014\n",
      "INFO \t step 5700 loss = -0.0261657\n",
      "INFO \t step 5800 loss = -0.0666775\n",
      "INFO \t step 5900 loss = -0.189845\n",
      "INFO \t step 6000 loss = 0.0104493\n",
      "INFO \t step 6100 loss = 0.193241\n",
      "INFO \t step 6200 loss = -0.323307\n",
      "INFO \t step 6300 loss = -0.137802\n",
      "INFO \t step 6400 loss = -0.144122\n",
      "INFO \t step 6500 loss = -0.176926\n",
      "INFO \t step 6600 loss = -0.270146\n",
      "INFO \t step 6700 loss = -0.189849\n",
      "INFO \t step 6800 loss = -0.284387\n",
      "INFO \t step 6900 loss = -0.421911\n",
      "INFO \t step 7000 loss = -0.447469\n",
      "INFO \t step 7100 loss = -0.00325722\n",
      "INFO \t step 7200 loss = -0.365228\n",
      "INFO \t step 7300 loss = -0.340204\n",
      "INFO \t step 7400 loss = -0.397145\n",
      "INFO \t step 7500 loss = -0.260615\n",
      "INFO \t step 7600 loss = -0.252342\n",
      "INFO \t step 7700 loss = -0.54879\n",
      "INFO \t step 7800 loss = -0.321282\n",
      "INFO \t step 7900 loss = -0.471241\n",
      "INFO \t step 8000 loss = -0.528256\n",
      "INFO \t step 8100 loss = -0.458165\n",
      "INFO \t step 8200 loss = -0.281265\n",
      "INFO \t step 8300 loss = -0.4795\n",
      "INFO \t step 8400 loss = -0.154217\n",
      "INFO \t step 8500 loss = -0.0857754\n",
      "INFO \t step 8600 loss = -0.610088\n",
      "INFO \t step 8700 loss = -0.642236\n",
      "INFO \t step 8800 loss = -0.716311\n",
      "INFO \t step 8900 loss = -0.766867\n",
      "INFO \t step 9000 loss = -0.605367\n",
      "INFO \t step 9100 loss = -0.463707\n",
      "INFO \t step 9200 loss = -0.124163\n",
      "INFO \t step 9300 loss = -0.728782\n",
      "INFO \t step 9400 loss = -0.535297\n",
      "INFO \t step 9500 loss = -0.652631\n",
      "INFO \t step 9600 loss = -0.63991\n",
      "INFO \t step 9700 loss = -0.86536\n",
      "INFO \t step 9800 loss = -0.712258\n",
      "INFO \t step 9900 loss = -0.814153\n",
      "INFO \t step 10000 loss = -0.8697\n"
     ]
    }
   ],
   "source": [
    "pyro.set_rng_seed(1)\n",
    "pyro.clear_param_store()\n",
    "time = torch.arange(float(T2)) / 365\n",
    "covariates = periodic_features(T2, 365.25 / 7)\n",
    "forecaster = Forecaster(Model2(), data[:T1], covariates[:T1], learning_rate=0.5,\n",
    "                        time_reparam=\"dct\", num_steps=10001,\n",
    "                       )"
   ],
   "metadata": {
    "collapsed": false,
    "pycharm": {
     "name": "#%%\n"
    }
   }
  },
  {
   "cell_type": "code",
   "execution_count": 16,
   "outputs": [
    {
     "data": {
      "text/plain": "<Figure size 648x216 with 1 Axes>",
      "image/png": "[encoded data removed]"
     },
     "metadata": {},
     "output_type": "display_data"
    }
   ],
   "source": [
    "samples = forecaster(data[:T1], covariates, num_samples=1000)\n",
    "p10, p50, p90 = quantile(samples, (0.1, 0.5, 0.9)).squeeze(-1)\n",
    "crps = eval_crps(samples, data[T1:])\n",
    "\n",
    "plt.figure(figsize=(9, 3))\n",
    "plt.fill_between(torch.arange(T1, T2), p10, p90, color=\"red\", alpha=0.3)\n",
    "plt.plot(torch.arange(T1, T2), p50, 'r-', label='forecast')\n",
    "plt.plot(data, 'k-', label='truth')\n",
    "# plt.title(\"Total weekly ridership (CRPS = {:0.3g})\".format(crps))\n",
    "# plt.ylabel(\"log(# rides)\")\n",
    "# plt.xlabel(\"Week after 2011-01-01\")\n",
    "# plt.xlim(1717, None)\n",
    "# plt.ylim(-1e11, 1.5e11)\n",
    "\n",
    "plt.legend(loc=\"best\");"
   ],
   "metadata": {
    "collapsed": false,
    "pycharm": {
     "name": "#%%\n"
    }
   }
  },
  {
   "cell_type": "code",
   "execution_count": 16,
   "outputs": [],
   "source": [],
   "metadata": {
    "collapsed": false,
    "pycharm": {
     "name": "#%%\n"
    }
   }
  }
 ],
 "metadata": {
  "kernelspec": {
   "name": "python3",
   "language": "python",
   "display_name": "Python 3 (ipykernel)"
  },
  "language_info": {
   "codemirror_mode": {
    "name": "ipython",
    "version": 2
   },
   "file_extension": ".py",
   "mimetype": "text/x-python",
   "name": "python",
   "nbconvert_exporter": "python",
   "pygments_lexer": "ipython2",
   "version": "2.7.6"
  }
 },
 "nbformat": 4,
 "nbformat_minor": 0
}