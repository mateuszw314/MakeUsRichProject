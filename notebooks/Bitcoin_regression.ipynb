{
  "nbformat": 4,
  "nbformat_minor": 0,
  "metadata": {
    "kernelspec": {
      "display_name": "Python 3",
      "language": "python",
      "name": "python3"
    },
    "language_info": {
      "codemirror_mode": {
        "name": "ipython",
        "version": 3
      },
      "file_extension": ".py",
      "mimetype": "text/x-python",
      "name": "python",
      "nbconvert_exporter": "python",
      "pygments_lexer": "ipython3",
      "version": "3.7.3"
    },
    "colab": {
      "name": "Bitcoin regression",
      "provenance": [],
      "collapsed_sections": []
    }
  },
  "cells": [
    {
      "cell_type": "markdown",
      "source": [
        "We would like to look into how much the Bitcoin price itself depends on some Bitcoin market parameters like market cap (the total value of all coins mined) or on-change transaction volume (measure of the total value of outputs on the blockchain on a given day). It seems promising to find some relation from such data, as we know that the more people buy the higher the price should be and vice versa. To do that, we will try to use some regression models on the following *Datahub* [Bitcoin dataset](https://datahub.io/cryptocurrency/bitcoin).\n",
        "\n",
        "For the sake of this notebook we took inspiration from the Regression lecture and notebooks from this course. \n",
        "\n",
        "Knowing how much Bitcoin's price graphs fluctuate, our intuition was that some non-linear regression could have a chance to tackle that problem. We imagined that the ever-fluctuating Bitcoin price could be possibly modeled with some polynolmial of higher degree. That's what we'll try to explore in this notebook. \n",
        "\n",
        "Firstly, we will install the *datapackege* to import the dataset"
      ],
      "metadata": {
        "id": "vdV6iR4ECH3F"
      }
    },
    {
      "cell_type": "code",
      "metadata": {
        "id": "xtoFZwvxj4ht",
        "colab": {
          "base_uri": "https://localhost:8080/"
        },
        "outputId": "d8d7177b-cf4c-44aa-f4c3-676e13b47295"
      },
      "source": [
        "!pip install datapackage"
      ],
      "execution_count": null,
      "outputs": [
        {
          "output_type": "stream",
          "name": "stdout",
          "text": [
            "Looking in indexes: https://pypi.org/simple, https://us-python.pkg.dev/colab-wheels/public/simple/\n",
            "Collecting datapackage\n",
            "  Downloading datapackage-1.15.2-py2.py3-none-any.whl (85 kB)\n",
            "\u001b[K     |████████████████████████████████| 85 kB 2.0 MB/s \n",
            "\u001b[?25hRequirement already satisfied: six>=1.10 in /usr/local/lib/python3.7/dist-packages (from datapackage) (1.15.0)\n",
            "Collecting unicodecsv>=0.14\n",
            "  Downloading unicodecsv-0.14.1.tar.gz (10 kB)\n",
            "Collecting tableschema>=1.12.1\n",
            "  Downloading tableschema-1.20.2-py2.py3-none-any.whl (68 kB)\n",
            "\u001b[K     |████████████████████████████████| 68 kB 4.3 MB/s \n",
            "\u001b[?25hRequirement already satisfied: requests>=2.8 in /usr/local/lib/python3.7/dist-packages (from datapackage) (2.23.0)\n",
            "Collecting tabulator>=1.29\n",
            "  Downloading tabulator-1.53.5-py2.py3-none-any.whl (72 kB)\n",
            "\u001b[K     |████████████████████████████████| 72 kB 353 kB/s \n",
            "\u001b[?25hRequirement already satisfied: jsonschema>=2.5 in /usr/local/lib/python3.7/dist-packages (from datapackage) (4.3.3)\n",
            "Collecting jsonpointer>=1.10\n",
            "  Downloading jsonpointer-2.3-py2.py3-none-any.whl (7.8 kB)\n",
            "Requirement already satisfied: click>=6.7 in /usr/local/lib/python3.7/dist-packages (from datapackage) (7.1.2)\n",
            "Requirement already satisfied: chardet>=3.0 in /usr/local/lib/python3.7/dist-packages (from datapackage) (3.0.4)\n",
            "Requirement already satisfied: typing-extensions in /usr/local/lib/python3.7/dist-packages (from jsonschema>=2.5->datapackage) (4.2.0)\n",
            "Requirement already satisfied: pyrsistent!=0.17.0,!=0.17.1,!=0.17.2,>=0.14.0 in /usr/local/lib/python3.7/dist-packages (from jsonschema>=2.5->datapackage) (0.18.1)\n",
            "Requirement already satisfied: importlib-metadata in /usr/local/lib/python3.7/dist-packages (from jsonschema>=2.5->datapackage) (4.11.3)\n",
            "Requirement already satisfied: importlib-resources>=1.4.0 in /usr/local/lib/python3.7/dist-packages (from jsonschema>=2.5->datapackage) (5.7.1)\n",
            "Requirement already satisfied: attrs>=17.4.0 in /usr/local/lib/python3.7/dist-packages (from jsonschema>=2.5->datapackage) (21.4.0)\n",
            "Requirement already satisfied: zipp>=3.1.0 in /usr/local/lib/python3.7/dist-packages (from importlib-resources>=1.4.0->jsonschema>=2.5->datapackage) (3.8.0)\n",
            "Requirement already satisfied: certifi>=2017.4.17 in /usr/local/lib/python3.7/dist-packages (from requests>=2.8->datapackage) (2022.5.18.1)\n",
            "Requirement already satisfied: idna<3,>=2.5 in /usr/local/lib/python3.7/dist-packages (from requests>=2.8->datapackage) (2.10)\n",
            "Requirement already satisfied: urllib3!=1.25.0,!=1.25.1,<1.26,>=1.21.1 in /usr/local/lib/python3.7/dist-packages (from requests>=2.8->datapackage) (1.24.3)\n",
            "Collecting isodate>=0.5.4\n",
            "  Downloading isodate-0.6.1-py2.py3-none-any.whl (41 kB)\n",
            "\u001b[K     |████████████████████████████████| 41 kB 555 kB/s \n",
            "\u001b[?25hCollecting rfc3986>=1.1.0\n",
            "  Downloading rfc3986-2.0.0-py2.py3-none-any.whl (31 kB)\n",
            "Requirement already satisfied: python-dateutil>=2.4 in /usr/local/lib/python3.7/dist-packages (from tableschema>=1.12.1->datapackage) (2.8.2)\n",
            "Requirement already satisfied: cached-property>=1.5 in /usr/local/lib/python3.7/dist-packages (from tableschema>=1.12.1->datapackage) (1.5.2)\n",
            "Requirement already satisfied: sqlalchemy>=0.9.6 in /usr/local/lib/python3.7/dist-packages (from tabulator>=1.29->datapackage) (1.4.36)\n",
            "Collecting boto3>=1.9\n",
            "  Downloading boto3-1.23.8-py3-none-any.whl (132 kB)\n",
            "\u001b[K     |████████████████████████████████| 132 kB 67.8 MB/s \n",
            "\u001b[?25hCollecting linear-tsv>=1.0\n",
            "  Downloading linear-tsv-1.1.0.tar.gz (9.6 kB)\n",
            "Collecting ijson>=3.0.3\n",
            "  Downloading ijson-3.1.4-cp37-cp37m-manylinux2010_x86_64.whl (126 kB)\n",
            "\u001b[K     |████████████████████████████████| 126 kB 47.5 MB/s \n",
            "\u001b[?25hRequirement already satisfied: xlrd>=1.0 in /usr/local/lib/python3.7/dist-packages (from tabulator>=1.29->datapackage) (1.1.0)\n",
            "Requirement already satisfied: openpyxl>=2.6 in /usr/local/lib/python3.7/dist-packages (from tabulator>=1.29->datapackage) (3.0.10)\n",
            "Collecting jsonlines>=1.1\n",
            "  Downloading jsonlines-3.0.0-py3-none-any.whl (8.5 kB)\n",
            "Collecting jmespath<2.0.0,>=0.7.1\n",
            "  Downloading jmespath-1.0.0-py3-none-any.whl (23 kB)\n",
            "Collecting s3transfer<0.6.0,>=0.5.0\n",
            "  Downloading s3transfer-0.5.2-py3-none-any.whl (79 kB)\n",
            "\u001b[K     |████████████████████████████████| 79 kB 8.9 MB/s \n",
            "\u001b[?25hCollecting botocore<1.27.0,>=1.26.8\n",
            "  Downloading botocore-1.26.8-py3-none-any.whl (8.8 MB)\n",
            "\u001b[K     |████████████████████████████████| 8.8 MB 46.8 MB/s \n",
            "\u001b[?25hCollecting urllib3!=1.25.0,!=1.25.1,<1.26,>=1.21.1\n",
            "  Downloading urllib3-1.25.11-py2.py3-none-any.whl (127 kB)\n",
            "\u001b[K     |████████████████████████████████| 127 kB 55.3 MB/s \n",
            "\u001b[?25hRequirement already satisfied: et-xmlfile in /usr/local/lib/python3.7/dist-packages (from openpyxl>=2.6->tabulator>=1.29->datapackage) (1.1.0)\n",
            "Requirement already satisfied: greenlet!=0.4.17 in /usr/local/lib/python3.7/dist-packages (from sqlalchemy>=0.9.6->tabulator>=1.29->datapackage) (1.1.2)\n",
            "Building wheels for collected packages: linear-tsv, unicodecsv\n",
            "  Building wheel for linear-tsv (setup.py) ... \u001b[?25l\u001b[?25hdone\n",
            "  Created wheel for linear-tsv: filename=linear_tsv-1.1.0-py3-none-any.whl size=7400 sha256=fe6a6be4958e8f1fc1a60f34728e7496efea0c890a29a43d07bb8e4322fd4314\n",
            "  Stored in directory: /root/.cache/pip/wheels/dd/0a/62/49ee84fab92057fb3e303fb1a59e75ccac6899b417f441305a\n",
            "  Building wheel for unicodecsv (setup.py) ... \u001b[?25l\u001b[?25hdone\n",
            "  Created wheel for unicodecsv: filename=unicodecsv-0.14.1-py3-none-any.whl size=10768 sha256=a49ffd59d1a31f43cf1058a4351181fd5e322dd0bc2880ea2a1daa44e3e43db6\n",
            "  Stored in directory: /root/.cache/pip/wheels/1a/f4/8a/a5024fb77b32ed369e5c409081e5f00fbe3b92fdad653f6e69\n",
            "Successfully built linear-tsv unicodecsv\n",
            "Installing collected packages: urllib3, jmespath, botocore, s3transfer, unicodecsv, linear-tsv, jsonlines, ijson, boto3, tabulator, rfc3986, isodate, tableschema, jsonpointer, datapackage\n",
            "  Attempting uninstall: urllib3\n",
            "    Found existing installation: urllib3 1.24.3\n",
            "    Uninstalling urllib3-1.24.3:\n",
            "      Successfully uninstalled urllib3-1.24.3\n",
            "\u001b[31mERROR: pip's dependency resolver does not currently take into account all the packages that are installed. This behaviour is the source of the following dependency conflicts.\n",
            "datascience 0.10.6 requires folium==0.2.1, but you have folium 0.8.3 which is incompatible.\u001b[0m\n",
            "Successfully installed boto3-1.23.8 botocore-1.26.8 datapackage-1.15.2 ijson-3.1.4 isodate-0.6.1 jmespath-1.0.0 jsonlines-3.0.0 jsonpointer-2.3 linear-tsv-1.1.0 rfc3986-2.0.0 s3transfer-0.5.2 tableschema-1.20.2 tabulator-1.53.5 unicodecsv-0.14.1 urllib3-1.25.11\n"
          ]
        }
      ]
    },
    {
      "cell_type": "markdown",
      "source": [
        "Then we import some packages and set *matplotlib* settings."
      ],
      "metadata": {
        "id": "zascG_4YFPCu"
      }
    },
    {
      "cell_type": "code",
      "metadata": {
        "id": "HI1c8hteWBmG"
      },
      "source": [
        "# imports \n",
        "import numpy as np\n",
        "import pandas as pd  \n",
        "from matplotlib import pyplot as plt\n",
        "import seaborn as sns\n",
        "from sklearn import linear_model\n",
        "import itertools\n",
        "import datetime\n",
        "from datapackage import Package\n",
        "from sklearn.svm import SVR\n",
        "from pandas.core.frame import DataFrame\n",
        "\n",
        "# matplotlib options\n",
        "palette = itertools.cycle(sns.color_palette())\n",
        "plt.style.use('ggplot')\n",
        "%matplotlib inline\n",
        "plt.rcParams['figure.figsize'] = (16, 10)"
      ],
      "execution_count": 107,
      "outputs": []
    },
    {
      "cell_type": "markdown",
      "source": [
        "Then we load our dataset into a DataFrame object and do some preprocessing. \n",
        "It includes standardizing the data, as we can not really use as big of numbers as a for example the *txCount*, which is the total of Bitcoin transactions per day, which as we are writing this is around 290k. We were a bit concerned though, that standardizing price data might lead to some rounding errors, and thus we'll introduce some noise into our dataset. Nevertheless, we don't think the models will learn well on non-standardized data, so we standardize it."
      ],
      "metadata": {
        "id": "TOzX8JsEFfb4"
      }
    },
    {
      "cell_type": "code",
      "source": [
        "# dataset loading\n",
        "\n",
        "package = Package('https://datahub.io/cryptocurrency/bitcoin/datapackage.json')\n",
        "\n",
        "df=[]\n",
        "\n",
        "# read pcsv data (if exists any)\n",
        "for resource in package.resources:\n",
        "    if resource.descriptor['datahub']['type'] == 'derived/csv':\n",
        "        df=resource.read()\n",
        "\n",
        "# convert to pandas data frame + preprocessing\n",
        "df=pd.DataFrame(df,columns=['date', 'txVolume(USD)', 'adjustedTxVolume(USD)', 'txCount', 'marketcap(USD)', 'price(USD)', 'exchangeVolume(USD)', 'generatedCoins','fees', 'activeAddresses', 'averageDifficulty', 'paymentCount', 'medianTxValue(USD)', 'medianFee','blockSize', 'blockCount'])\n",
        "\n",
        "# get rid of all the half-empty rows, ie. until 2013-04-28, getting rid of first 1571 rows\n",
        "df=df[df.date>datetime.date(2013,4,28)]\n",
        "\n",
        "# some preprocessing\n",
        "dates = df['date']\n",
        "no_dates = df.drop('date', axis=1)\n",
        "no_dates = no_dates.apply(pd.to_numeric,errors='coerce', axis=1)\n",
        "\n",
        "# we want to predict the 'price(USD)' value using all other variables (for now)\n",
        "y = pd.to_numeric(df['price(USD)'])\n",
        "X = no_dates.drop('price(USD)', axis=1)\n",
        "\n",
        "# standardizing \n",
        "\n",
        "y_mean = y.mean()\n",
        "y_std = y.std()\n",
        "y = (y - y_mean) / y_std\n",
        "\n",
        "\n",
        "X_mean = X.mean()\n",
        "X_std = X.std()\n",
        "X = (X - X_mean) / X_std\n",
        "\n",
        "\n"
      ],
      "metadata": {
        "id": "eMbtQkThpFOx"
      },
      "execution_count": 108,
      "outputs": []
    },
    {
      "cell_type": "markdown",
      "source": [
        "We define an error estimating function "
      ],
      "metadata": {
        "id": "YBjA49kuKdYs"
      }
    },
    {
      "cell_type": "code",
      "metadata": {
        "id": "epg2UM7XWBnU"
      },
      "source": [
        "# defining an error function\n",
        "def compute_error(trues, predicted):\n",
        "    corr = np.corrcoef(predicted, trues)[0,1]\n",
        "    mae = np.mean(np.abs(predicted - trues))\n",
        "    rae = np.sum(np.abs(predicted - trues)) / np.sum(np.abs(trues - np.mean(trues)))\n",
        "    rmse = np.sqrt(np.mean((predicted - trues)**2))\n",
        "    r2 = max(0, 1 - np.sum((trues-predicted)**2) / np.sum((trues - np.mean(trues))**2))\n",
        "    return corr, mae, rae, rmse, r2"
      ],
      "execution_count": 109,
      "outputs": []
    },
    {
      "cell_type": "markdown",
      "source": [
        "Then we split the data into train and test sets and permutate it. For the sake of this notebook, we are not bothered by the time series relation, that's why we happily permutate the set. By trial and error, we reached a rather higher percentage of the train data. But it agrees with our intention to include as many fluctuations in the train data as possible, hoping that it will give our model a better insight. "
      ],
      "metadata": {
        "id": "lZp8r-zVKmLh"
      }
    },
    {
      "cell_type": "code",
      "source": [
        "def split_into_train_and_test(X,y,train_perc=0.9):\n",
        "  split_point = int(train_perc*len(y))\n",
        "  perm = np.random.permutation(len(y))\n",
        "  ix_train = perm[:split_point]\n",
        "  ix_test = perm[split_point:]\n",
        "  X = X.to_numpy()\n",
        "  y = y.to_numpy()\n",
        "  X_train = X[ix_train,:]\n",
        "  X_test = X[ix_test,:]\n",
        "  y_train = y[ix_train]\n",
        "  y_test = y[ix_test]\n",
        "  return X_test,X_train,y_test,y_train"
      ],
      "metadata": {
        "id": "uLpqcfc8duUN"
      },
      "execution_count": 110,
      "outputs": []
    },
    {
      "cell_type": "code",
      "source": [
        "X_test,X_train,y_test,y_train = split_into_train_and_test(X,y)"
      ],
      "metadata": {
        "id": "sTNTwTtDPV4X"
      },
      "execution_count": 111,
      "outputs": []
    },
    {
      "cell_type": "markdown",
      "source": [
        "To check out our polynolmial regression idea, we try to train an Epsilon-Support Vector Regression from *scikit-learn*. The kernel of the model is chosen to be polynomial with a degree 3. It did not really fit our intuition of a high degree polynolmial, as we imagined a degree of at least 10, but for *degree=3* we got the best results. By trial and error, we also adjusted the other parameters like *gamma*, *epsilon* and *C*. \n",
        "\n",
        "After the model is trained and tested, we convert the data back to its original scale, as it was standerdized before. "
      ],
      "metadata": {
        "id": "WtyXvSpsLddh"
      }
    },
    {
      "cell_type": "code",
      "source": [
        "def train_predict_poly_regression(X_train,y_train, X_test,kernel='poly'):\n",
        "  C=1000 \n",
        "  gamma=0.01\n",
        "  epsilon=0.01\n",
        "  degree=3\n",
        "  svrrbf = SVR(kernel=kernel, degree=degree, C=C, gamma=gamma, epsilon=epsilon)\n",
        "  svrrbf.fit(X_train, y_train)\n",
        "  y_hat = svrrbf.predict(X_test)\n",
        "  return y_hat\n",
        "\n",
        "def convert_back_to_scale(y_hat,y_std,y_mean,y_test):\n",
        "  preds = y_hat * y_std + y_mean\n",
        "  y_true = y_test * y_std + y_mean\n",
        "  return preds,y_true"
      ],
      "metadata": {
        "id": "aK3XzhuGWNjJ"
      },
      "execution_count": 112,
      "outputs": []
    },
    {
      "cell_type": "code",
      "source": [
        "y_hat=train_predict_poly_regression(X_train,y_train,X_test)\n",
        "preds, y_true = convert_back_to_scale(y_hat,y_std,y_mean,y_test)\n",
        "corr, mae, rae, rmse, r2 = compute_error(y_true, preds)\n",
        "print(\"CorrCoef: %.3f\\nMAE: %.3f\\nRMSE: %.3f\\nR2: %.3f\" % (corr, mae, rmse, r2))"
      ],
      "metadata": {
        "colab": {
          "base_uri": "https://localhost:8080/"
        },
        "id": "tVDY3ExyWulA",
        "outputId": "c163d051-3174-4b6c-8c91-4e3f8cb28b77"
      },
      "execution_count": 113,
      "outputs": [
        {
          "output_type": "stream",
          "name": "stdout",
          "text": [
            "CorrCoef: 0.987\n",
            "MAE: 156.356\n",
            "RMSE: 681.027\n",
            "R2: 0.967\n"
          ]
        }
      ]
    },
    {
      "cell_type": "markdown",
      "source": [
        "The results are not as promising as we would have hoped. The MAE suggests that on average our prediction is off by 238 USD. We can take a look at a graph of a subset of our predictions for better visualization. \n",
        "\n",
        "Whenever we plot our graphs, predicted price values are in blue, while the actual price values are in red. "
      ],
      "metadata": {
        "id": "IvDgdVQmOUK8"
      }
    },
    {
      "cell_type": "code",
      "source": [
        "def plot_a_range(range):\n",
        "  plt.plot(preds[:range],'bo')\n",
        "  plt.plot(y_true[:range],'r+')"
      ],
      "metadata": {
        "id": "U74Q7JRSYJxZ"
      },
      "execution_count": 114,
      "outputs": []
    },
    {
      "cell_type": "code",
      "source": [
        "# plot a range\n",
        "plot_range=40\n",
        "plot_a_range(plot_range)\n"
      ],
      "metadata": {
        "colab": {
          "base_uri": "https://localhost:8080/",
          "height": 592
        },
        "id": "LIFkzs99ya4q",
        "outputId": "c2a03518-a7d0-456f-bed3-bc9093fdb9e1"
      },
      "execution_count": 115,
      "outputs": [
        {
          "output_type": "display_data",
          "data": {
            "text/plain": [
              "<Figure size 1152x720 with 1 Axes>"
            ],
            "image/png": "[encoded data removed]"
          },
          "metadata": {
            "needs_background": "light"
          }
        }
      ]
    },
    {
      "cell_type": "markdown",
      "source": [
        "Naturally, the bigger the price, the bigger our error is. We also have some outliers. To be honest, we no longer think that a polynomial modelling is a good solution here. \n",
        "\n",
        "So we tried an rbf kernel, which is supposed to be an equivalent of using a polynomial kernel with an infinite degree."
      ],
      "metadata": {
        "id": "DagNlCcLQI7Q"
      }
    },
    {
      "cell_type": "code",
      "source": [
        "y_hat=train_predict_poly_regression(X_train,y_train,X_test,kernel='rbf')\n",
        "preds, y_true = convert_back_to_scale(y_hat,y_std,y_mean,y_test)\n",
        "corr, mae, rae, rmse, r2 = compute_error(y_true, preds)\n",
        "print(\"CorrCoef: %.3f\\nMAE: %.3f\\nRMSE: %.3f\\nR2: %.3f\" % (corr, mae, rmse, r2))\n",
        "plot_a_range(plot_range)"
      ],
      "metadata": {
        "colab": {
          "base_uri": "https://localhost:8080/",
          "height": 664
        },
        "id": "Va4Lp-8HSs0M",
        "outputId": "48e804cc-dc71-43c8-97c8-e51380cdccc5"
      },
      "execution_count": 116,
      "outputs": [
        {
          "output_type": "stream",
          "name": "stdout",
          "text": [
            "CorrCoef: 1.000\n",
            "MAE: 23.919\n",
            "RMSE: 89.172\n",
            "R2: 0.999\n"
          ]
        },
        {
          "output_type": "display_data",
          "data": {
            "text/plain": [
              "<Figure size 1152x720 with 1 Axes>"
            ],
            "image/png": "[encoded data removed]"
          },
          "metadata": {
            "needs_background": "light"
          }
        }
      ]
    },
    {
      "cell_type": "markdown",
      "source": [
        "We actually got much nicer results then earlier. Not only are the MAE and RMSE 5-10x smaller than before, but also the R2 is much closer to 1. \n",
        "\n",
        "Just out of curiosity, we also tried a good old-fashioned linear regression."
      ],
      "metadata": {
        "id": "47WS3fbzS7Lv"
      }
    },
    {
      "cell_type": "code",
      "source": [
        "def train_and_test_linear_regression():\n",
        "  regr = linear_model.LinearRegression()\n",
        "  regr.fit(X_train, y_train)\n",
        "  y_hat = regr.predict(X_test)\n",
        "  return y_hat"
      ],
      "metadata": {
        "id": "FJMO8_-OXsfe"
      },
      "execution_count": 117,
      "outputs": []
    },
    {
      "cell_type": "code",
      "source": [
        "y_hat = train_and_test_linear_regression()\n",
        "preds, y_true = convert_back_to_scale(y_hat,y_std,y_mean,y_test)\n",
        "corr, mae, rae, rmse, r2 = compute_error(y_true, preds)\n",
        "print(\"CorrCoef: %.3f\\nMAE: %.3f\\nRMSE: %.3f\\nR2: %.3f\" % (corr, mae, rmse, r2))\n",
        "plot_a_range(plot_range)"
      ],
      "metadata": {
        "colab": {
          "base_uri": "https://localhost:8080/",
          "height": 663
        },
        "id": "jsyjiA6_QvnZ",
        "outputId": "b26870a9-ac14-4f43-df17-ea9e14b037dc"
      },
      "execution_count": 118,
      "outputs": [
        {
          "output_type": "stream",
          "name": "stdout",
          "text": [
            "CorrCoef: 1.000\n",
            "MAE: 24.193\n",
            "RMSE: 34.160\n",
            "R2: 1.000\n"
          ]
        },
        {
          "output_type": "display_data",
          "data": {
            "text/plain": [
              "<Figure size 1152x720 with 1 Axes>"
            ],
            "image/png": "[encoded data removed]"
          },
          "metadata": {
            "needs_background": "light"
          }
        }
      ]
    },
    {
      "cell_type": "markdown",
      "source": [
        "The error estimation looks even better than our non-linear rbf regression, with a lower RMSE. Maybe it is also because our data is standardized, which flattens the data. \n",
        "\n",
        "We started wondering if maybe our features are too correlated with price. Thus we wanted to look into some feature selection. "
      ],
      "metadata": {
        "id": "-ykfpq75UBjq"
      }
    },
    {
      "cell_type": "code",
      "source": [
        "# feature selection\n",
        "from sklearn.feature_selection import SelectKBest, f_regression\n",
        "\n",
        "# configure to select all features\n",
        "X = SelectKBest(score_func=f_regression).fit_transform(X,y)\n"
      ],
      "metadata": {
        "id": "xkAB1_xsNjEL"
      },
      "execution_count": 121,
      "outputs": []
    },
    {
      "cell_type": "markdown",
      "source": [
        "This way we got rid of 4 features. Then we ran our models again. Firstly, the non-linear regression with *rbf* kernel"
      ],
      "metadata": {
        "id": "e8IyKh7NV6VB"
      }
    },
    {
      "cell_type": "code",
      "source": [
        "X_test,X_train,y_test,y_train = split_into_train_and_test(pd.DataFrame(X),y)"
      ],
      "metadata": {
        "id": "6UG0hNfKZr7-"
      },
      "execution_count": 122,
      "outputs": []
    },
    {
      "cell_type": "code",
      "source": [
        "y_hat=train_predict_poly_regression(X_train,y_train,X_test,kernel='rbf')\n",
        "preds, y_true = convert_back_to_scale(y_hat,y_std,y_mean,y_test)\n",
        "corr, mae, rae, rmse, r2 = compute_error(y_true, preds)\n",
        "print(\"CorrCoef: %.3f\\nMAE: %.3f\\nRMSE: %.3f\\nR2: %.3f\" % (corr, mae, rmse, r2))\n",
        "plot_a_range(plot_range)"
      ],
      "metadata": {
        "colab": {
          "base_uri": "https://localhost:8080/",
          "height": 661
        },
        "id": "rAWohXlwWKez",
        "outputId": "b20b0552-bfe0-4417-e4c5-386e8bc73cec"
      },
      "execution_count": 123,
      "outputs": [
        {
          "output_type": "stream",
          "name": "stdout",
          "text": [
            "CorrCoef: 1.000\n",
            "MAE: 17.451\n",
            "RMSE: 21.963\n",
            "R2: 1.000\n"
          ]
        },
        {
          "output_type": "display_data",
          "data": {
            "text/plain": [
              "<Figure size 1152x720 with 1 Axes>"
            ],
            "image/png": "[encoded data removed]"
          },
          "metadata": {
            "needs_background": "light"
          }
        }
      ]
    },
    {
      "cell_type": "markdown",
      "source": [
        "And our linear regression model"
      ],
      "metadata": {
        "id": "8drVWXsKZm7s"
      }
    },
    {
      "cell_type": "code",
      "source": [
        "y_hat = train_and_test_linear_regression()\n",
        "preds, y_true = convert_back_to_scale(y_hat,y_std,y_mean,y_test)\n",
        "corr, mae, rae, rmse, r2 = compute_error(y_true, preds)\n",
        "print(\"CorrCoef: %.3f\\nMAE: %.3f\\nRMSE: %.3f\\nR2: %.3f\" % (corr, mae, rmse, r2))\n",
        "plot_a_range(plot_range)"
      ],
      "metadata": {
        "colab": {
          "base_uri": "https://localhost:8080/",
          "height": 661
        },
        "id": "rA5UEli1Z0HW",
        "outputId": "ca8face5-15f6-46a4-9260-a95469e565db"
      },
      "execution_count": 129,
      "outputs": [
        {
          "output_type": "stream",
          "name": "stdout",
          "text": [
            "CorrCoef: 1.000\n",
            "MAE: 29.812\n",
            "RMSE: 46.571\n",
            "R2: 1.000\n"
          ]
        },
        {
          "output_type": "display_data",
          "data": {
            "text/plain": [
              "<Figure size 1152x720 with 1 Axes>"
            ],
            "image/png": "[encoded data removed]"
          },
          "metadata": {
            "needs_background": "light"
          }
        }
      ]
    },
    {
      "cell_type": "markdown",
      "source": [
        "Now we have reached a more convincing state, where non-linear regression does better that the linear one ( oof :) ). However, the linear one is not that much worse. "
      ],
      "metadata": {
        "id": "Y_T21VlzZ5R5"
      }
    },
    {
      "cell_type": "markdown",
      "source": [
        "As a conclusion, we can say that non-linear regression with the *rbf* kernel has proven to be most promising. Our models' predictions suggest that the market data from our dataset can be used to some extent effectively to infer the price. However, we do realize that the actual Bitcoin price depends on many other factors as well.\n",
        "\n",
        "We were quite surprised that the linear regression did so well. We are wondering if it's maybe due to the presence of outliers in our dataset, that do affect the polynomial regression. We also guess that some of the features like total transactions per day or marketcap are quite correlated with price, which makes it easier for the linear regression to work. "
      ],
      "metadata": {
        "id": "mttLahXgGeE_"
      }
    }
  ]
}