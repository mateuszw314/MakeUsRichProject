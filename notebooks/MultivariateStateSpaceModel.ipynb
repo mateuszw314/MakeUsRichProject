{
  "nbformat": 4,
  "nbformat_minor": 0,
  "metadata": {
    "colab": {
      "name": "MultivariateStateSpaceModel.ipynb",
      "provenance": [],
      "collapsed_sections": []
    },
    "kernelspec": {
      "name": "python3",
      "display_name": "Python 3"
    },
    "language_info": {
      "name": "python"
    }
  },
  "cells": [
    {
      "cell_type": "markdown",
      "source": [
        "## Initial numpyro installation"
      ],
      "metadata": {
        "id": "w2UJedH2sh7H"
      }
    },
    {
      "cell_type": "code",
      "source": [
        "!pip install numpyro"
      ],
      "metadata": {
        "colab": {
          "base_uri": "https://localhost:8080/"
        },
        "id": "vlsdwGjj1t8h",
        "outputId": "f9908561-ff3e-4722-8c74-85db1828c71e"
      },
      "execution_count": 1,
      "outputs": [
        {
          "output_type": "stream",
          "name": "stdout",
          "text": [
            "Collecting numpyro\n",
            "  Downloading numpyro-0.9.2-py3-none-any.whl (283 kB)\n",
            "\u001b[?25l\r\u001b[K     |█▏                              | 10 kB 30.6 MB/s eta 0:00:01\r\u001b[K     |██▎                             | 20 kB 33.5 MB/s eta 0:00:01\r\u001b[K     |███▌                            | 30 kB 39.0 MB/s eta 0:00:01\r\u001b[K     |████▋                           | 40 kB 41.0 MB/s eta 0:00:01\r\u001b[K     |█████▊                          | 51 kB 27.3 MB/s eta 0:00:01\r\u001b[K     |███████                         | 61 kB 31.0 MB/s eta 0:00:01\r\u001b[K     |████████                        | 71 kB 27.1 MB/s eta 0:00:01\r\u001b[K     |█████████▎                      | 81 kB 28.0 MB/s eta 0:00:01\r\u001b[K     |██████████▍                     | 92 kB 30.2 MB/s eta 0:00:01\r\u001b[K     |███████████▌                    | 102 kB 28.2 MB/s eta 0:00:01\r\u001b[K     |████████████▊                   | 112 kB 28.2 MB/s eta 0:00:01\r\u001b[K     |█████████████▉                  | 122 kB 28.2 MB/s eta 0:00:01\r\u001b[K     |███████████████                 | 133 kB 28.2 MB/s eta 0:00:01\r\u001b[K     |████████████████▏               | 143 kB 28.2 MB/s eta 0:00:01\r\u001b[K     |█████████████████▎              | 153 kB 28.2 MB/s eta 0:00:01\r\u001b[K     |██████████████████▌             | 163 kB 28.2 MB/s eta 0:00:01\r\u001b[K     |███████████████████▋            | 174 kB 28.2 MB/s eta 0:00:01\r\u001b[K     |████████████████████▊           | 184 kB 28.2 MB/s eta 0:00:01\r\u001b[K     |██████████████████████          | 194 kB 28.2 MB/s eta 0:00:01\r\u001b[K     |███████████████████████         | 204 kB 28.2 MB/s eta 0:00:01\r\u001b[K     |████████████████████████▎       | 215 kB 28.2 MB/s eta 0:00:01\r\u001b[K     |█████████████████████████▍      | 225 kB 28.2 MB/s eta 0:00:01\r\u001b[K     |██████████████████████████▌     | 235 kB 28.2 MB/s eta 0:00:01\r\u001b[K     |███████████████████████████▊    | 245 kB 28.2 MB/s eta 0:00:01\r\u001b[K     |████████████████████████████▉   | 256 kB 28.2 MB/s eta 0:00:01\r\u001b[K     |██████████████████████████████  | 266 kB 28.2 MB/s eta 0:00:01\r\u001b[K     |███████████████████████████████▏| 276 kB 28.2 MB/s eta 0:00:01\r\u001b[K     |████████████████████████████████| 283 kB 28.2 MB/s \n",
            "\u001b[?25hRequirement already satisfied: jax>=0.2.13 in /usr/local/lib/python3.7/dist-packages (from numpyro) (0.3.8)\n",
            "Requirement already satisfied: jaxlib>=0.1.65 in /usr/local/lib/python3.7/dist-packages (from numpyro) (0.3.7+cuda11.cudnn805)\n",
            "Requirement already satisfied: numpy in /usr/local/lib/python3.7/dist-packages (from numpyro) (1.21.6)\n",
            "Collecting multipledispatch\n",
            "  Downloading multipledispatch-0.6.0-py3-none-any.whl (11 kB)\n",
            "Requirement already satisfied: tqdm in /usr/local/lib/python3.7/dist-packages (from numpyro) (4.64.0)\n",
            "Requirement already satisfied: scipy>=1.2.1 in /usr/local/lib/python3.7/dist-packages (from jax>=0.2.13->numpyro) (1.4.1)\n",
            "Requirement already satisfied: opt-einsum in /usr/local/lib/python3.7/dist-packages (from jax>=0.2.13->numpyro) (3.3.0)\n",
            "Requirement already satisfied: typing-extensions in /usr/local/lib/python3.7/dist-packages (from jax>=0.2.13->numpyro) (4.2.0)\n",
            "Requirement already satisfied: absl-py in /usr/local/lib/python3.7/dist-packages (from jax>=0.2.13->numpyro) (1.0.0)\n",
            "Requirement already satisfied: flatbuffers<3.0,>=1.12 in /usr/local/lib/python3.7/dist-packages (from jaxlib>=0.1.65->numpyro) (2.0)\n",
            "Requirement already satisfied: six in /usr/local/lib/python3.7/dist-packages (from absl-py->jax>=0.2.13->numpyro) (1.15.0)\n",
            "Installing collected packages: multipledispatch, numpyro\n",
            "Successfully installed multipledispatch-0.6.0 numpyro-0.9.2\n"
          ]
        }
      ]
    },
    {
      "cell_type": "markdown",
      "source": [
        "## Needed imports\n"
      ],
      "metadata": {
        "id": "rwbK7dFOsp98"
      }
    },
    {
      "cell_type": "code",
      "execution_count": 2,
      "metadata": {
        "id": "g63tnzuyu07Z"
      },
      "outputs": [],
      "source": [
        "import numpy as np\n",
        "import pandas as pd\n",
        "from matplotlib import pyplot as plt\n",
        "from matplotlib.lines import Line2D\n",
        "import seaborn as sns\n",
        "\n",
        "import numpyro\n",
        "import numpyro.distributions as dist\n",
        "from numpyro import handlers\n",
        "from numpyro.infer import MCMC, NUTS\n",
        "\n",
        "import jax\n",
        "import jax.numpy as jnp\n",
        "from jax import random, vmap\n",
        "from jax.scipy.special import logsumexp\n",
        "from jax import lax\n",
        "\n",
        "import time\n",
        "from datetime import timedelta, date, datetime\n",
        "from copy import deepcopy\n",
        "\n",
        "\n",
        "# fix MCMCndom generator seed (for reproducibility of results)\n",
        "np.random.seed(42)\n",
        "\n",
        "# matplotlib style options\n",
        "plt.style.use('ggplot')\n",
        "%matplotlib inline\n",
        "plt.rcParams['figure.figsize'] = (16, 10)"
      ]
    },
    {
      "cell_type": "markdown",
      "source": [
        "## Read file with bitcoin prices in USD"
      ],
      "metadata": {
        "id": "C5eda7C6szOo"
      }
    },
    {
      "cell_type": "code",
      "source": [
        "df_price = pd.read_csv('/content/drive/MyDrive/model-based/BTC-USD.csv', parse_dates=True)"
      ],
      "metadata": {
        "id": "Pic5a7u1zh7G"
      },
      "execution_count": 34,
      "outputs": []
    },
    {
      "cell_type": "markdown",
      "source": [
        "## See sample data in table"
      ],
      "metadata": {
        "id": "WO6mQssLs6aO"
      }
    },
    {
      "cell_type": "code",
      "source": [
        "df_price.head()"
      ],
      "metadata": {
        "colab": {
          "base_uri": "https://localhost:8080/",
          "height": 206
        },
        "id": "ClX0BbEcziNr",
        "outputId": "44273103-041f-4a91-a7e1-ee25ac0d2e88"
      },
      "execution_count": 35,
      "outputs": [
        {
          "output_type": "execute_result",
          "data": {
            "text/plain": [
              "         Date        Open        High         Low       Close   Adj Close  \\\n",
              "0  2014-09-17  465.864014  468.174011  452.421997  457.334015  457.334015   \n",
              "1  2014-09-18  456.859985  456.859985  413.104004  424.440002  424.440002   \n",
              "2  2014-09-19  424.102997  427.834991  384.532013  394.795990  394.795990   \n",
              "3  2014-09-20  394.673004  423.295990  389.882996  408.903992  408.903992   \n",
              "4  2014-09-21  408.084991  412.425995  393.181000  398.821014  398.821014   \n",
              "\n",
              "     Volume  \n",
              "0  21056800  \n",
              "1  34483200  \n",
              "2  37919700  \n",
              "3  36863600  \n",
              "4  26580100  "
            ],
            "text/html": [
              "\n",
              "  <div id=\"df-76b7e97f-03f8-405f-9169-f6a1ec1369d3\">\n",
              "    <div class=\"colab-df-container\">\n",
              "      <div>\n",
              "<style scoped>\n",
              "    .dataframe tbody tr th:only-of-type {\n",
              "        vertical-align: middle;\n",
              "    }\n",
              "\n",
              "    .dataframe tbody tr th {\n",
              "        vertical-align: top;\n",
              "    }\n",
              "\n",
              "    .dataframe thead th {\n",
              "        text-align: right;\n",
              "    }\n",
              "</style>\n",
              "<table border=\"1\" class=\"dataframe\">\n",
              "  <thead>\n",
              "    <tr style=\"text-align: right;\">\n",
              "      <th></th>\n",
              "      <th>Date</th>\n",
              "      <th>Open</th>\n",
              "      <th>High</th>\n",
              "      <th>Low</th>\n",
              "      <th>Close</th>\n",
              "      <th>Adj Close</th>\n",
              "      <th>Volume</th>\n",
              "    </tr>\n",
              "  </thead>\n",
              "  <tbody>\n",
              "    <tr>\n",
              "      <th>0</th>\n",
              "      <td>2014-09-17</td>\n",
              "      <td>465.864014</td>\n",
              "      <td>468.174011</td>\n",
              "      <td>452.421997</td>\n",
              "      <td>457.334015</td>\n",
              "      <td>457.334015</td>\n",
              "      <td>21056800</td>\n",
              "    </tr>\n",
              "    <tr>\n",
              "      <th>1</th>\n",
              "      <td>2014-09-18</td>\n",
              "      <td>456.859985</td>\n",
              "      <td>456.859985</td>\n",
              "      <td>413.104004</td>\n",
              "      <td>424.440002</td>\n",
              "      <td>424.440002</td>\n",
              "      <td>34483200</td>\n",
              "    </tr>\n",
              "    <tr>\n",
              "      <th>2</th>\n",
              "      <td>2014-09-19</td>\n",
              "      <td>424.102997</td>\n",
              "      <td>427.834991</td>\n",
              "      <td>384.532013</td>\n",
              "      <td>394.795990</td>\n",
              "      <td>394.795990</td>\n",
              "      <td>37919700</td>\n",
              "    </tr>\n",
              "    <tr>\n",
              "      <th>3</th>\n",
              "      <td>2014-09-20</td>\n",
              "      <td>394.673004</td>\n",
              "      <td>423.295990</td>\n",
              "      <td>389.882996</td>\n",
              "      <td>408.903992</td>\n",
              "      <td>408.903992</td>\n",
              "      <td>36863600</td>\n",
              "    </tr>\n",
              "    <tr>\n",
              "      <th>4</th>\n",
              "      <td>2014-09-21</td>\n",
              "      <td>408.084991</td>\n",
              "      <td>412.425995</td>\n",
              "      <td>393.181000</td>\n",
              "      <td>398.821014</td>\n",
              "      <td>398.821014</td>\n",
              "      <td>26580100</td>\n",
              "    </tr>\n",
              "  </tbody>\n",
              "</table>\n",
              "</div>\n",
              "      <button class=\"colab-df-convert\" onclick=\"convertToInteractive('df-76b7e97f-03f8-405f-9169-f6a1ec1369d3')\"\n",
              "              title=\"Convert this dataframe to an interactive table.\"\n",
              "              style=\"display:none;\">\n",
              "        \n",
              "  <svg xmlns=\"http://www.w3.org/2000/svg\" height=\"24px\"viewBox=\"0 0 24 24\"\n",
              "       width=\"24px\">\n",
              "    <path d=\"M0 0h24v24H0V0z\" fill=\"none\"/>\n",
              "    <path d=\"M18.56 5.44l.94 2.06.94-2.06 2.06-.94-2.06-.94-.94-2.06-.94 2.06-2.06.94zm-11 1L8.5 8.5l.94-2.06 2.06-.94-2.06-.94L8.5 2.5l-.94 2.06-2.06.94zm10 10l.94 2.06.94-2.06 2.06-.94-2.06-.94-.94-2.06-.94 2.06-2.06.94z\"/><path d=\"M17.41 7.96l-1.37-1.37c-.4-.4-.92-.59-1.43-.59-.52 0-1.04.2-1.43.59L10.3 9.45l-7.72 7.72c-.78.78-.78 2.05 0 2.83L4 21.41c.39.39.9.59 1.41.59.51 0 1.02-.2 1.41-.59l7.78-7.78 2.81-2.81c.8-.78.8-2.07 0-2.86zM5.41 20L4 18.59l7.72-7.72 1.47 1.35L5.41 20z\"/>\n",
              "  </svg>\n",
              "      </button>\n",
              "      \n",
              "  <style>\n",
              "    .colab-df-container {\n",
              "      display:flex;\n",
              "      flex-wrap:wrap;\n",
              "      gap: 12px;\n",
              "    }\n",
              "\n",
              "    .colab-df-convert {\n",
              "      background-color: #E8F0FE;\n",
              "      border: none;\n",
              "      border-radius: 50%;\n",
              "      cursor: pointer;\n",
              "      display: none;\n",
              "      fill: #1967D2;\n",
              "      height: 32px;\n",
              "      padding: 0 0 0 0;\n",
              "      width: 32px;\n",
              "    }\n",
              "\n",
              "    .colab-df-convert:hover {\n",
              "      background-color: #E2EBFA;\n",
              "      box-shadow: 0px 1px 2px rgba(60, 64, 67, 0.3), 0px 1px 3px 1px rgba(60, 64, 67, 0.15);\n",
              "      fill: #174EA6;\n",
              "    }\n",
              "\n",
              "    [theme=dark] .colab-df-convert {\n",
              "      background-color: #3B4455;\n",
              "      fill: #D2E3FC;\n",
              "    }\n",
              "\n",
              "    [theme=dark] .colab-df-convert:hover {\n",
              "      background-color: #434B5C;\n",
              "      box-shadow: 0px 1px 3px 1px rgba(0, 0, 0, 0.15);\n",
              "      filter: drop-shadow(0px 1px 2px rgba(0, 0, 0, 0.3));\n",
              "      fill: #FFFFFF;\n",
              "    }\n",
              "  </style>\n",
              "\n",
              "      <script>\n",
              "        const buttonEl =\n",
              "          document.querySelector('#df-76b7e97f-03f8-405f-9169-f6a1ec1369d3 button.colab-df-convert');\n",
              "        buttonEl.style.display =\n",
              "          google.colab.kernel.accessAllowed ? 'block' : 'none';\n",
              "\n",
              "        async function convertToInteractive(key) {\n",
              "          const element = document.querySelector('#df-76b7e97f-03f8-405f-9169-f6a1ec1369d3');\n",
              "          const dataTable =\n",
              "            await google.colab.kernel.invokeFunction('convertToInteractive',\n",
              "                                                     [key], {});\n",
              "          if (!dataTable) return;\n",
              "\n",
              "          const docLinkHtml = 'Like what you see? Visit the ' +\n",
              "            '<a target=\"_blank\" href=https://colab.research.google.com/notebooks/data_table.ipynb>data table notebook</a>'\n",
              "            + ' to learn more about interactive tables.';\n",
              "          element.innerHTML = '';\n",
              "          dataTable['output_type'] = 'display_data';\n",
              "          await google.colab.output.renderOutput(dataTable, element);\n",
              "          const docLink = document.createElement('div');\n",
              "          docLink.innerHTML = docLinkHtml;\n",
              "          element.appendChild(docLink);\n",
              "        }\n",
              "      </script>\n",
              "    </div>\n",
              "  </div>\n",
              "  "
            ]
          },
          "metadata": {},
          "execution_count": 35
        }
      ]
    },
    {
      "cell_type": "markdown",
      "source": [
        "## Visualize the BTC price in time"
      ],
      "metadata": {
        "id": "ryynG9ILtM1m"
      }
    },
    {
      "cell_type": "code",
      "source": [
        "df_price.plot(x=\"Date\", y=\"Adj Close\")\n",
        "plt.show()"
      ],
      "metadata": {
        "colab": {
          "base_uri": "https://localhost:8080/",
          "height": 609
        },
        "id": "dLViHY4JtRKq",
        "outputId": "e6a0b4aa-6249-431d-9f55-4f601d5c2a28"
      },
      "execution_count": 36,
      "outputs": [
        {
          "output_type": "display_data",
          "data": {
            "text/plain": [
              "<Figure size 1152x720 with 1 Axes>"
            ],
            "image/png": "[encoded data removed]"
          },
          "metadata": {
            "needs_background": "light"
          }
        }
      ]
    },
    {
      "cell_type": "markdown",
      "source": [
        "## Load USD index data"
      ],
      "metadata": {
        "id": "n-Rqq5JSvHfs"
      }
    },
    {
      "cell_type": "code",
      "source": [
        "df_usd = pd.read_csv('/content/drive/MyDrive/model-based/USD_historical_data.csv', parse_dates=True) \n",
        "print(df_usd.head(10))\n",
        "# print shape of both data frames\n",
        "print(df_usd.shape)\n",
        "print(df_price.shape)"
      ],
      "metadata": {
        "colab": {
          "base_uri": "https://localhost:8080/"
        },
        "id": "wIB6G3vz4UDA",
        "outputId": "3b5e3eb6-a433-4a09-8ae0-d6ac5fc92e7b"
      },
      "execution_count": 37,
      "outputs": [
        {
          "output_type": "stream",
          "name": "stdout",
          "text": [
            "           Date  Price   Open   High    Low Vol. Change %\n",
            "0  Sep 17, 2014  84.34  84.10  84.78  83.94    -    0.32%\n",
            "1  Sep 18, 2014  84.32  84.80  84.74  84.22    -   -0.02%\n",
            "2  Sep 19, 2014  84.73  84.28  84.80  84.23    -    0.49%\n",
            "3  Sep 22, 2014  84.75  84.78  84.86  84.52    -    0.02%\n",
            "4  Sep 23, 2014  84.66  84.68  84.76  84.36    -   -0.11%\n",
            "5  Sep 24, 2014  85.04  84.71  85.09  84.60    -    0.45%\n",
            "6  Sep 25, 2014  85.19  85.10  85.48  85.05    -    0.18%\n",
            "7  Sep 26, 2014  85.64  85.14  85.69  85.11    -    0.53%\n",
            "8  Sep 29, 2014  85.59  85.62  85.80  85.46    -   -0.06%\n",
            "9  Sep 30, 2014  85.94  85.61  86.22  85.49    -    0.41%\n",
            "(1963, 7)\n",
            "(2747, 7)\n"
          ]
        }
      ]
    },
    {
      "cell_type": "markdown",
      "source": [
        "## As we see the shapes do not match, we notice that USD index data is missing entries for weekend days, we will fill this data with values from Friday."
      ],
      "metadata": {
        "id": "mkR8zykzvZxq"
      }
    },
    {
      "cell_type": "code",
      "source": [
        "N = df_usd.shape[0]\n",
        "usd_list = df_usd.to_numpy() # change for numpy array\n",
        "\n",
        "# add data for the weekend\n",
        "usd_data =[]\n",
        "for i in range(3, N, 5):\n",
        "  if(i>=5):\n",
        "    usd_data = np.vstack((usd_data, usd_list[i-5:i,:]))\n",
        "  else: # first week\n",
        "    usd_data = usd_list[0:i, :]\n",
        "  # copy Friday data\n",
        "  copy_friday =  deepcopy(usd_list[i-1,:])\n",
        "  # change the day\n",
        "  copy_friday[0] = datetime.strptime(copy_friday[0], \"%b %d, %Y\") + timedelta(days=1)\n",
        "  # add data for Saturday\n",
        "  usd_data = np.vstack((usd_data,copy_friday))\n",
        "  # move one day\n",
        "  copy_friday[0] = copy_friday[0] + timedelta(days=1)\n",
        "  # add data for Sunday\n",
        "  usd_data = np.vstack((usd_data,copy_friday))\n",
        "\n",
        "# we are missing data for the last 5 dys\n",
        "usd_data = np.vstack((usd_data,usd_list[-5:,:]))\n",
        "# print length to check if it matches \n",
        "print(len(usd_data))"
      ],
      "metadata": {
        "colab": {
          "base_uri": "https://localhost:8080/"
        },
        "id": "Gyrzo5FyOvgo",
        "outputId": "9a386c8a-8c3e-4636-b9c9-37268cbb591d"
      },
      "execution_count": 38,
      "outputs": [
        {
          "output_type": "stream",
          "name": "stdout",
          "text": [
            "2747\n"
          ]
        }
      ]
    },
    {
      "cell_type": "code",
      "source": [
        "df_usd_extended = pd.DataFrame(usd_data)"
      ],
      "metadata": {
        "id": "A_o9DCS3JBVH"
      },
      "execution_count": 39,
      "outputs": []
    },
    {
      "cell_type": "code",
      "source": [
        "# merge data\n",
        "columns = [\"BTC_date\", \"BTC_price\", \"BTC_adj_price\", \"USD_price\"]\n",
        "df_merged = df_price.join(df_usd_extended, lsuffix=\"_BTC\")"
      ],
      "metadata": {
        "id": "XmJeoW3fFmAw"
      },
      "execution_count": 40,
      "outputs": []
    },
    {
      "cell_type": "code",
      "source": [
        "def f_h(carry, noise):\n",
        "  beta, h_prev= carry\n",
        "  h_t = beta*h_prev  + noise\n",
        "  h_prev = h_t\n",
        "  return (beta, h_prev), h_t"
      ],
      "metadata": {
        "id": "bIBPi48L9s_C"
      },
      "execution_count": 154,
      "outputs": []
    },
    {
      "cell_type": "code",
      "source": [
        "from torch.distributions import constraints\n",
        "import numpy\n",
        "\n",
        "def model(T, T_forecast, N=3, obs_btc_price=None, obs_usd_price=None, obs_volume=None):\n",
        "    # Define priors over beta, tau, sigma, z_1 (keep the shapes in mind)\n",
        "    beta = numpyro.sample(name=\"beta\", fn=dist.Normal(loc=jnp.zeros(N), scale=jnp.ones(N)*0.5))\n",
        "    r = numpyro.sample(name=\"r\", fn=dist.HalfCauchy(scale=jnp.ones(N)*8))\n",
        "    sigma = numpyro.sample(name=\"sigma\", fn=dist.HalfCauchy(scale=4))\n",
        "    y_prev = numpyro.sample(name=\"y_1\", fn=dist.Normal(loc=jnp.ones(N)*3, scale=jnp.ones(N)*15))\n",
        "    # Define LKJ prior\n",
        "    L_Omega = numpyro.sample(\"L_Omega\", dist.LKJCholesky(N, 10.))\n",
        "    Sigma_lower = jnp.matmul(jnp.diag(jnp.sqrt(r)), L_Omega) # lower cholesky factor of the covariance matrix\n",
        "    noises = numpyro.sample(\"noises\", fn=dist.MultivariateNormal(loc=jnp.zeros(N), scale_tril=Sigma_lower), sample_shape=(T+T_forecast-1,))\n",
        "    \n",
        "    # Propagate the dynamics forward using jax.lax.scan\n",
        "    carry = (beta, y_prev)\n",
        "    y_collection = [y_prev]\n",
        "    carry, ys_exp = lax.scan(f_h, carry, noises, T+T_forecast-1)\n",
        "    y_collection = jnp.concatenate((jnp.array(y_collection), ys_exp), axis=0)\n",
        "    \n",
        "\n",
        "    # Sample the observed y (y_obs) - BTC \n",
        "    numpyro.sample(name=\"y_obs_btc\", fn=dist.Normal(loc=y_collection[:T,0], scale=sigma), obs=obs_btc_price[:T])\n",
        "    numpyro.sample(name=\"y_pred_btc\", fn=dist.Normal(loc=y_collection[T:,0], scale=sigma), obs=None)\n",
        "    # Sampe y - USD index\n",
        "    numpyro.sample(name=\"y_obs_usd\", fn=dist.Normal(loc=y_collection[:T,1], scale=sigma), obs=obs_usd_price[:T])\n",
        "    numpyro.sample(name=\"y_pred_usd\", fn=dist.Normal(loc=y_collection[T:,1], scale=sigma), obs=None)\n",
        "    # Sampe z / z - volume\n",
        "    # numpyro.sample(name=\"y_obs_volume\", fn=dist.Normal(loc=y_collection[:T,2], scale=sigma), obs=obs_volume[:T])\n",
        "    # numpyro.sample(name=\"y_pred_volume\", fn=dist.Normal(loc=y_collection[T:,2], scale=sigma), obs=None)\n",
        "\n",
        "    return y_collection"
      ],
      "metadata": {
        "id": "-cgd2wYP_rA9"
      },
      "execution_count": 181,
      "outputs": []
    },
    {
      "cell_type": "markdown",
      "source": [
        "## Select vairables"
      ],
      "metadata": {
        "id": "-iRCWX0HohS6"
      }
    },
    {
      "cell_type": "code",
      "source": [
        "# select variables\n",
        "y_obs_btc = df_merged[\"Adj Close\"]\n",
        "# y_obs = df_merged[[\"Adj Close\"]]\n",
        "y_obs_btc = y_obs_btc.values\n",
        "y_obs_usd = df_merged[1].values.astype(np.float64)\n",
        "y_obs_volume = df_merged[\"Volume\"].values\n",
        "print(type(y_obs_usd))\n",
        "print(type(y_obs_btc))\n",
        "print(type(y_obs_usd[0]))\n",
        "print(type(y_obs_btc[0]))\n",
        "print(type(y_obs_volume[0]))\n",
        "# print(y_obs[:,1].reshape(-1).shape)\n",
        "T=100\n",
        "T_forecast=46\n",
        "y_obs_btc = y_obs_btc[-(T+T_forecast):]\n",
        "y_obs_usd = y_obs_usd[-(T+T_forecast):]\n",
        "y_obs_volume = y_obs_volume[-(T+T_forecast):]\n",
        "print(len(y_obs_volume))"
      ],
      "metadata": {
        "id": "ZkmgzDHARicc",
        "colab": {
          "base_uri": "https://localhost:8080/"
        },
        "outputId": "4051788a-db80-4c4f-9d6d-f339dc0f681f"
      },
      "execution_count": 156,
      "outputs": [
        {
          "output_type": "stream",
          "name": "stdout",
          "text": [
            "<class 'numpy.ndarray'>\n",
            "<class 'numpy.ndarray'>\n",
            "<class 'numpy.float64'>\n",
            "<class 'numpy.float64'>\n",
            "<class 'numpy.int64'>\n",
            "146\n"
          ]
        }
      ]
    },
    {
      "cell_type": "markdown",
      "source": [
        "## Run the model"
      ],
      "metadata": {
        "id": "Az60jbAsofCe"
      }
    },
    {
      "cell_type": "code",
      "source": [
        "t0 = time.time()\n",
        "\n",
        "rng_key = random.PRNGKey(0)\n",
        "rng_key, rng_key_ = random.split(rng_key)\n",
        "\n",
        "nuts_kernel = NUTS(model=model)\n",
        "mcmc = MCMC(nuts_kernel, num_samples=1000, num_warmup=1000, num_chains=1)\n",
        "mcmc.run(rng_key_, T=T, T_forecast=T_forecast, N=3, obs_btc_price=y_obs_btc, obs_usd_price=y_obs_usd, obs_volume=y_obs_volume)\n",
        "\n",
        "t_fin = time.time()\n",
        "\n",
        "print(\"Total time: {0:.3f}m\".format((t_fin - t0)/60))"
      ],
      "metadata": {
        "colab": {
          "base_uri": "https://localhost:8080/"
        },
        "id": "6CaM6CLKFbx1",
        "outputId": "6eb392dd-8ef2-48c5-a5f1-78a822626395"
      },
      "execution_count": 182,
      "outputs": [
        {
          "output_type": "stream",
          "name": "stderr",
          "text": [
            "sample: 100%|██████████| 2000/2000 [00:18<00:00, 107.13it/s, 63 steps of size 7.42e-02. acc. prob=0.87]\n"
          ]
        },
        {
          "output_type": "stream",
          "name": "stdout",
          "text": [
            "Total time: 0.321m\n"
          ]
        }
      ]
    },
    {
      "cell_type": "code",
      "source": [
        "hmc_samples = {k: v for k, v in mcmc.get_samples().items()}"
      ],
      "metadata": {
        "id": "sifTVJ0xgMTU"
      },
      "execution_count": 183,
      "outputs": []
    },
    {
      "cell_type": "markdown",
      "source": [
        "## Plot posteriors"
      ],
      "metadata": {
        "id": "yEm_fIfJoXWF"
      }
    },
    {
      "cell_type": "code",
      "source": [
        "nodes = [\"beta\", \"r\", \"sigma\"]\n",
        "for node in nodes:\n",
        "  if node == \"beta\":\n",
        "    for i in range(3):\n",
        "      plt.figure(figsize=(4,3))\n",
        "      sns.distplot(hmc_samples[node][:,i], label=node+\"%d\"%i)\n",
        "      plt.legend()\n",
        "    plt.show()\n",
        "  else:\n",
        "    plt.figure(figsize=(4,3))\n",
        "    sns.distplot(hmc_samples[node], label=node)\n",
        "    plt.legend()\n",
        "    plt.show()"
      ],
      "metadata": {
        "colab": {
          "base_uri": "https://localhost:8080/",
          "height": 1000
        },
        "id": "IYKVhFaUgbBg",
        "outputId": "2d579481-e092-48fb-84e5-443e2a7b2ccd"
      },
      "execution_count": 184,
      "outputs": [
        {
          "output_type": "stream",
          "name": "stderr",
          "text": [
            "/usr/local/lib/python3.7/dist-packages/seaborn/distributions.py:2619: FutureWarning: `distplot` is a deprecated function and will be removed in a future version. Please adapt your code to use either `displot` (a figure-level function with similar flexibility) or `histplot` (an axes-level function for histograms).\n",
            "  warnings.warn(msg, FutureWarning)\n",
            "/usr/local/lib/python3.7/dist-packages/seaborn/distributions.py:2619: FutureWarning: `distplot` is a deprecated function and will be removed in a future version. Please adapt your code to use either `displot` (a figure-level function with similar flexibility) or `histplot` (an axes-level function for histograms).\n",
            "  warnings.warn(msg, FutureWarning)\n",
            "/usr/local/lib/python3.7/dist-packages/seaborn/distributions.py:2619: FutureWarning: `distplot` is a deprecated function and will be removed in a future version. Please adapt your code to use either `displot` (a figure-level function with similar flexibility) or `histplot` (an axes-level function for histograms).\n",
            "  warnings.warn(msg, FutureWarning)\n"
          ]
        },
        {
          "output_type": "display_data",
          "data": {
            "text/plain": [
              "<Figure size 288x216 with 1 Axes>"
            ],
            "image/png": "[encoded data removed]"
          },
          "metadata": {
            "needs_background": "light"
          }
        },
        {
          "output_type": "display_data",
          "data": {
            "text/plain": [
              "<Figure size 288x216 with 1 Axes>"
            ],
            "image/png": "[encoded data removed]"
          },
          "metadata": {
            "needs_background": "light"
          }
        },
        {
          "output_type": "display_data",
          "data": {
            "text/plain": [
              "<Figure size 288x216 with 1 Axes>"
            ],
            "image/png": "[encoded data removed]"
          },
          "metadata": {
            "needs_background": "light"
          }
        },
        {
          "output_type": "stream",
          "name": "stderr",
          "text": [
            "/usr/local/lib/python3.7/dist-packages/seaborn/distributions.py:2619: FutureWarning: `distplot` is a deprecated function and will be removed in a future version. Please adapt your code to use either `displot` (a figure-level function with similar flexibility) or `histplot` (an axes-level function for histograms).\n",
            "  warnings.warn(msg, FutureWarning)\n"
          ]
        },
        {
          "output_type": "display_data",
          "data": {
            "text/plain": [
              "<Figure size 288x216 with 1 Axes>"
            ],
            "image/png": "[encoded data removed]"
          },
          "metadata": {
            "needs_background": "light"
          }
        },
        {
          "output_type": "stream",
          "name": "stderr",
          "text": [
            "/usr/local/lib/python3.7/dist-packages/seaborn/distributions.py:2619: FutureWarning: `distplot` is a deprecated function and will be removed in a future version. Please adapt your code to use either `displot` (a figure-level function with similar flexibility) or `histplot` (an axes-level function for histograms).\n",
            "  warnings.warn(msg, FutureWarning)\n"
          ]
        },
        {
          "output_type": "display_data",
          "data": {
            "text/plain": [
              "<Figure size 288x216 with 1 Axes>"
            ],
            "image/png": "[encoded data removed]"
          },
          "metadata": {
            "needs_background": "light"
          }
        }
      ]
    },
    {
      "cell_type": "markdown",
      "source": [
        "## Get predicted values"
      ],
      "metadata": {
        "id": "c0w_LPO9oT65"
      }
    },
    {
      "cell_type": "code",
      "source": [
        "y_pred_btc = hmc_samples[\"y_pred_btc\"].mean(axis=0)\n",
        "print(y_pred_btc)\n",
        "print(y_obs_btc[T:])"
      ],
      "metadata": {
        "colab": {
          "base_uri": "https://localhost:8080/"
        },
        "id": "YPQj1qTVhVbD",
        "outputId": "9b3df70d-aa36-4dd8-cebf-b2796a808853"
      },
      "execution_count": 185,
      "outputs": [
        {
          "output_type": "stream",
          "name": "stdout",
          "text": [
            "[ -394.60107   -1967.1522     -114.76043      54.478645    548.5119\n",
            "   897.4049     1280.5713      378.53473    1859.6415     -685.4906\n",
            "  1901.5105     -253.17404    -719.8293    -1095.4717     -303.10544\n",
            "  -154.0878    -3339.8003       -7.4514537  1762.4062      701.4125\n",
            "  -130.28111     177.57762    -368.95813    1956.2787     1030.6238\n",
            "   297.84476    1863.0627     -246.46555    -896.8543      -52.581924\n",
            " -1043.8962      396.3246     1206.8851        4.145094   2708.3835\n",
            "   180.90738   -1475.8176      528.7249      167.69559    -606.53345\n",
            " -1493.684      1546.4263    -1528.7687      698.50366    1114.3837\n",
            "  -465.33456  ]\n",
            "[44118.445313 44338.796875 43565.113281 42407.9375   42244.46875\n",
            " 42197.515625 42586.917969 44575.203125 43961.859375 40538.011719\n",
            " 40030.976563 40122.15625  38431.378906 37075.28125  38286.027344\n",
            " 37296.570313 38332.609375 39214.21875  39105.148438 37709.785156\n",
            " 43193.234375 44354.636719 43924.117188 42451.789063 39137.605469\n",
            " 39400.585938 38419.984375 38062.039063 38737.269531 41982.925781\n",
            " 39437.460938 38794.972656 38904.011719 37849.664063 39666.753906\n",
            " 39338.785156 41143.929688 40951.378906 41801.15625  42190.652344\n",
            " 41247.824219 41077.996094 42358.808594 42892.957031 43960.933594\n",
            " 44395.964844]\n"
          ]
        }
      ]
    },
    {
      "cell_type": "markdown",
      "source": [
        "## Plot predictions and true values"
      ],
      "metadata": {
        "id": "06zWz0B8oOe5"
      }
    },
    {
      "cell_type": "code",
      "source": [
        "plt.plot(y_obs_btc[T:], \"bx\")\n",
        "plt.plot(y_pred_btc,\"rx\")\n",
        "plt.legend([\"Observed\", \"Predict\"])\n",
        "plt.show()"
      ],
      "metadata": {
        "colab": {
          "base_uri": "https://localhost:8080/",
          "height": 592
        },
        "id": "y_4pqOXGhFd2",
        "outputId": "a0839497-82f2-4229-af52-694982051081"
      },
      "execution_count": 186,
      "outputs": [
        {
          "output_type": "display_data",
          "data": {
            "text/plain": [
              "<Figure size 1152x720 with 1 Axes>"
            ],
            "image/png": "[encoded data removed]"
          },
          "metadata": {
            "needs_background": "light"
          }
        }
      ]
    }
  ]
}