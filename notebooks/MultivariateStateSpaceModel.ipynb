{
  "nbformat": 4,
  "nbformat_minor": 0,
  "metadata": {
    "colab": {
      "name": "MultivariateStateSpaceModel.ipynb",
      "provenance": [],
      "collapsed_sections": []
    },
    "kernelspec": {
      "name": "python3",
      "display_name": "Python 3"
    },
    "language_info": {
      "name": "python"
    }
  },
  "cells": [
    {
      "cell_type": "markdown",
      "source": [
        "## Initial numpyro installation"
      ],
      "metadata": {
        "id": "w2UJedH2sh7H"
      }
    },
    {
      "cell_type": "code",
      "source": [
        "!pip install numpyro"
      ],
      "metadata": {
        "colab": {
          "base_uri": "https://localhost:8080/"
        },
        "id": "vlsdwGjj1t8h",
        "outputId": "1fdca9fe-17e9-49fb-a9a2-cdd84c48e28a"
      },
      "execution_count": 1,
      "outputs": [
        {
          "output_type": "stream",
          "name": "stdout",
          "text": [
            "Looking in indexes: https://pypi.org/simple, https://us-python.pkg.dev/colab-wheels/public/simple/\n",
            "Collecting numpyro\n",
            "  Downloading numpyro-0.9.2-py3-none-any.whl (283 kB)\n",
            "\u001b[K     |████████████████████████████████| 283 kB 5.3 MB/s \n",
            "\u001b[?25hRequirement already satisfied: jax>=0.2.13 in /usr/local/lib/python3.7/dist-packages (from numpyro) (0.3.8)\n",
            "Requirement already satisfied: jaxlib>=0.1.65 in /usr/local/lib/python3.7/dist-packages (from numpyro) (0.3.7+cuda11.cudnn805)\n",
            "Requirement already satisfied: numpy in /usr/local/lib/python3.7/dist-packages (from numpyro) (1.21.6)\n",
            "Collecting multipledispatch\n",
            "  Downloading multipledispatch-0.6.0-py3-none-any.whl (11 kB)\n",
            "Requirement already satisfied: tqdm in /usr/local/lib/python3.7/dist-packages (from numpyro) (4.64.0)\n",
            "Requirement already satisfied: opt-einsum in /usr/local/lib/python3.7/dist-packages (from jax>=0.2.13->numpyro) (3.3.0)\n",
            "Requirement already satisfied: typing-extensions in /usr/local/lib/python3.7/dist-packages (from jax>=0.2.13->numpyro) (4.2.0)\n",
            "Requirement already satisfied: absl-py in /usr/local/lib/python3.7/dist-packages (from jax>=0.2.13->numpyro) (1.0.0)\n",
            "Requirement already satisfied: scipy>=1.2.1 in /usr/local/lib/python3.7/dist-packages (from jax>=0.2.13->numpyro) (1.4.1)\n",
            "Requirement already satisfied: flatbuffers<3.0,>=1.12 in /usr/local/lib/python3.7/dist-packages (from jaxlib>=0.1.65->numpyro) (2.0)\n",
            "Requirement already satisfied: six in /usr/local/lib/python3.7/dist-packages (from absl-py->jax>=0.2.13->numpyro) (1.15.0)\n",
            "Installing collected packages: multipledispatch, numpyro\n",
            "Successfully installed multipledispatch-0.6.0 numpyro-0.9.2\n"
          ]
        }
      ]
    },
    {
      "cell_type": "markdown",
      "source": [
        "## Needed imports\n"
      ],
      "metadata": {
        "id": "rwbK7dFOsp98"
      }
    },
    {
      "cell_type": "code",
      "execution_count": 2,
      "metadata": {
        "id": "g63tnzuyu07Z"
      },
      "outputs": [],
      "source": [
        "import numpy as np\n",
        "import pandas as pd\n",
        "from matplotlib import pyplot as plt\n",
        "from matplotlib.lines import Line2D\n",
        "import seaborn as sns\n",
        "\n",
        "import numpyro\n",
        "import numpyro.distributions as dist\n",
        "from numpyro import handlers\n",
        "from numpyro.infer import MCMC, NUTS\n",
        "\n",
        "import jax\n",
        "import jax.numpy as jnp\n",
        "from jax import random, vmap\n",
        "from jax.scipy.special import logsumexp\n",
        "from jax import lax\n",
        "\n",
        "import time\n",
        "from datetime import timedelta, date, datetime\n",
        "from copy import deepcopy\n",
        "\n",
        "\n",
        "# fix MCMCndom generator seed (for reproducibility of results)\n",
        "np.random.seed(42)\n",
        "\n",
        "# matplotlib style options\n",
        "plt.style.use('ggplot')\n",
        "%matplotlib inline\n",
        "plt.rcParams['figure.figsize'] = (16, 10)"
      ]
    },
    {
      "cell_type": "markdown",
      "source": [
        "## Read file with bitcoin prices in USD"
      ],
      "metadata": {
        "id": "C5eda7C6szOo"
      }
    },
    {
      "cell_type": "code",
      "source": [
        "df_price = pd.read_csv('/content/drive/MyDrive/model-based/BTC-USD.csv', parse_dates=True)"
      ],
      "metadata": {
        "id": "Pic5a7u1zh7G"
      },
      "execution_count": 3,
      "outputs": []
    },
    {
      "cell_type": "markdown",
      "source": [
        "## See sample data in table"
      ],
      "metadata": {
        "id": "WO6mQssLs6aO"
      }
    },
    {
      "cell_type": "code",
      "source": [
        "df_price.head()"
      ],
      "metadata": {
        "colab": {
          "base_uri": "https://localhost:8080/",
          "height": 206
        },
        "id": "ClX0BbEcziNr",
        "outputId": "7e30fa3b-af80-4bcd-f75d-6fbf40125d76"
      },
      "execution_count": 4,
      "outputs": [
        {
          "output_type": "execute_result",
          "data": {
            "text/plain": [
              "         Date        Open        High         Low       Close   Adj Close  \\\n",
              "0  2014-09-17  465.864014  468.174011  452.421997  457.334015  457.334015   \n",
              "1  2014-09-18  456.859985  456.859985  413.104004  424.440002  424.440002   \n",
              "2  2014-09-19  424.102997  427.834991  384.532013  394.795990  394.795990   \n",
              "3  2014-09-20  394.673004  423.295990  389.882996  408.903992  408.903992   \n",
              "4  2014-09-21  408.084991  412.425995  393.181000  398.821014  398.821014   \n",
              "\n",
              "     Volume  \n",
              "0  21056800  \n",
              "1  34483200  \n",
              "2  37919700  \n",
              "3  36863600  \n",
              "4  26580100  "
            ],
            "text/html": [
              "\n",
              "  <div id=\"df-a9ab86e9-5cca-4a25-8b06-b20fb455e9b1\">\n",
              "    <div class=\"colab-df-container\">\n",
              "      <div>\n",
              "<style scoped>\n",
              "    .dataframe tbody tr th:only-of-type {\n",
              "        vertical-align: middle;\n",
              "    }\n",
              "\n",
              "    .dataframe tbody tr th {\n",
              "        vertical-align: top;\n",
              "    }\n",
              "\n",
              "    .dataframe thead th {\n",
              "        text-align: right;\n",
              "    }\n",
              "</style>\n",
              "<table border=\"1\" class=\"dataframe\">\n",
              "  <thead>\n",
              "    <tr style=\"text-align: right;\">\n",
              "      <th></th>\n",
              "      <th>Date</th>\n",
              "      <th>Open</th>\n",
              "      <th>High</th>\n",
              "      <th>Low</th>\n",
              "      <th>Close</th>\n",
              "      <th>Adj Close</th>\n",
              "      <th>Volume</th>\n",
              "    </tr>\n",
              "  </thead>\n",
              "  <tbody>\n",
              "    <tr>\n",
              "      <th>0</th>\n",
              "      <td>2014-09-17</td>\n",
              "      <td>465.864014</td>\n",
              "      <td>468.174011</td>\n",
              "      <td>452.421997</td>\n",
              "      <td>457.334015</td>\n",
              "      <td>457.334015</td>\n",
              "      <td>21056800</td>\n",
              "    </tr>\n",
              "    <tr>\n",
              "      <th>1</th>\n",
              "      <td>2014-09-18</td>\n",
              "      <td>456.859985</td>\n",
              "      <td>456.859985</td>\n",
              "      <td>413.104004</td>\n",
              "      <td>424.440002</td>\n",
              "      <td>424.440002</td>\n",
              "      <td>34483200</td>\n",
              "    </tr>\n",
              "    <tr>\n",
              "      <th>2</th>\n",
              "      <td>2014-09-19</td>\n",
              "      <td>424.102997</td>\n",
              "      <td>427.834991</td>\n",
              "      <td>384.532013</td>\n",
              "      <td>394.795990</td>\n",
              "      <td>394.795990</td>\n",
              "      <td>37919700</td>\n",
              "    </tr>\n",
              "    <tr>\n",
              "      <th>3</th>\n",
              "      <td>2014-09-20</td>\n",
              "      <td>394.673004</td>\n",
              "      <td>423.295990</td>\n",
              "      <td>389.882996</td>\n",
              "      <td>408.903992</td>\n",
              "      <td>408.903992</td>\n",
              "      <td>36863600</td>\n",
              "    </tr>\n",
              "    <tr>\n",
              "      <th>4</th>\n",
              "      <td>2014-09-21</td>\n",
              "      <td>408.084991</td>\n",
              "      <td>412.425995</td>\n",
              "      <td>393.181000</td>\n",
              "      <td>398.821014</td>\n",
              "      <td>398.821014</td>\n",
              "      <td>26580100</td>\n",
              "    </tr>\n",
              "  </tbody>\n",
              "</table>\n",
              "</div>\n",
              "      <button class=\"colab-df-convert\" onclick=\"convertToInteractive('df-a9ab86e9-5cca-4a25-8b06-b20fb455e9b1')\"\n",
              "              title=\"Convert this dataframe to an interactive table.\"\n",
              "              style=\"display:none;\">\n",
              "        \n",
              "  <svg xmlns=\"http://www.w3.org/2000/svg\" height=\"24px\"viewBox=\"0 0 24 24\"\n",
              "       width=\"24px\">\n",
              "    <path d=\"M0 0h24v24H0V0z\" fill=\"none\"/>\n",
              "    <path d=\"M18.56 5.44l.94 2.06.94-2.06 2.06-.94-2.06-.94-.94-2.06-.94 2.06-2.06.94zm-11 1L8.5 8.5l.94-2.06 2.06-.94-2.06-.94L8.5 2.5l-.94 2.06-2.06.94zm10 10l.94 2.06.94-2.06 2.06-.94-2.06-.94-.94-2.06-.94 2.06-2.06.94z\"/><path d=\"M17.41 7.96l-1.37-1.37c-.4-.4-.92-.59-1.43-.59-.52 0-1.04.2-1.43.59L10.3 9.45l-7.72 7.72c-.78.78-.78 2.05 0 2.83L4 21.41c.39.39.9.59 1.41.59.51 0 1.02-.2 1.41-.59l7.78-7.78 2.81-2.81c.8-.78.8-2.07 0-2.86zM5.41 20L4 18.59l7.72-7.72 1.47 1.35L5.41 20z\"/>\n",
              "  </svg>\n",
              "      </button>\n",
              "      \n",
              "  <style>\n",
              "    .colab-df-container {\n",
              "      display:flex;\n",
              "      flex-wrap:wrap;\n",
              "      gap: 12px;\n",
              "    }\n",
              "\n",
              "    .colab-df-convert {\n",
              "      background-color: #E8F0FE;\n",
              "      border: none;\n",
              "      border-radius: 50%;\n",
              "      cursor: pointer;\n",
              "      display: none;\n",
              "      fill: #1967D2;\n",
              "      height: 32px;\n",
              "      padding: 0 0 0 0;\n",
              "      width: 32px;\n",
              "    }\n",
              "\n",
              "    .colab-df-convert:hover {\n",
              "      background-color: #E2EBFA;\n",
              "      box-shadow: 0px 1px 2px rgba(60, 64, 67, 0.3), 0px 1px 3px 1px rgba(60, 64, 67, 0.15);\n",
              "      fill: #174EA6;\n",
              "    }\n",
              "\n",
              "    [theme=dark] .colab-df-convert {\n",
              "      background-color: #3B4455;\n",
              "      fill: #D2E3FC;\n",
              "    }\n",
              "\n",
              "    [theme=dark] .colab-df-convert:hover {\n",
              "      background-color: #434B5C;\n",
              "      box-shadow: 0px 1px 3px 1px rgba(0, 0, 0, 0.15);\n",
              "      filter: drop-shadow(0px 1px 2px rgba(0, 0, 0, 0.3));\n",
              "      fill: #FFFFFF;\n",
              "    }\n",
              "  </style>\n",
              "\n",
              "      <script>\n",
              "        const buttonEl =\n",
              "          document.querySelector('#df-a9ab86e9-5cca-4a25-8b06-b20fb455e9b1 button.colab-df-convert');\n",
              "        buttonEl.style.display =\n",
              "          google.colab.kernel.accessAllowed ? 'block' : 'none';\n",
              "\n",
              "        async function convertToInteractive(key) {\n",
              "          const element = document.querySelector('#df-a9ab86e9-5cca-4a25-8b06-b20fb455e9b1');\n",
              "          const dataTable =\n",
              "            await google.colab.kernel.invokeFunction('convertToInteractive',\n",
              "                                                     [key], {});\n",
              "          if (!dataTable) return;\n",
              "\n",
              "          const docLinkHtml = 'Like what you see? Visit the ' +\n",
              "            '<a target=\"_blank\" href=https://colab.research.google.com/notebooks/data_table.ipynb>data table notebook</a>'\n",
              "            + ' to learn more about interactive tables.';\n",
              "          element.innerHTML = '';\n",
              "          dataTable['output_type'] = 'display_data';\n",
              "          await google.colab.output.renderOutput(dataTable, element);\n",
              "          const docLink = document.createElement('div');\n",
              "          docLink.innerHTML = docLinkHtml;\n",
              "          element.appendChild(docLink);\n",
              "        }\n",
              "      </script>\n",
              "    </div>\n",
              "  </div>\n",
              "  "
            ]
          },
          "metadata": {},
          "execution_count": 4
        }
      ]
    },
    {
      "cell_type": "code",
      "source": [
        "df_price = df_price.drop(columns = [\"Open\", \"High\", \"Low\", \"Close\", \"Volume\"])"
      ],
      "metadata": {
        "id": "HlIHuAYIG60V"
      },
      "execution_count": 78,
      "outputs": []
    },
    {
      "cell_type": "markdown",
      "source": [
        "## Visualize the BTC price in time"
      ],
      "metadata": {
        "id": "ryynG9ILtM1m"
      }
    },
    {
      "cell_type": "code",
      "source": [
        "df_price.plot(x=\"Date\", y=\"Adj Close\")\n",
        "plt.show()"
      ],
      "metadata": {
        "colab": {
          "base_uri": "https://localhost:8080/",
          "height": 609
        },
        "id": "dLViHY4JtRKq",
        "outputId": "7513e5a3-babd-4bd0-e72b-ad73b05ed3b0"
      },
      "execution_count": 79,
      "outputs": [
        {
          "output_type": "display_data",
          "data": {
            "text/plain": [
              "<Figure size 1152x720 with 1 Axes>"
            ],
            "image/png": "[encoded data removed]"
          },
          "metadata": {
            "needs_background": "light"
          }
        }
      ]
    },
    {
      "cell_type": "markdown",
      "source": [
        "## Load USD index data"
      ],
      "metadata": {
        "id": "n-Rqq5JSvHfs"
      }
    },
    {
      "cell_type": "code",
      "source": [
        "df_usd = pd.read_csv('/content/drive/MyDrive/model-based/USD_historical_data.csv', parse_dates=True) \n",
        "print(df_usd.head(10))\n",
        "# remove unnecessary columns\n",
        "df_usd =df_usd.drop(columns=[\"Open\", \"High\", \"Low\", \"Vol.\", \"Change %\"])\n",
        "# print shape of both data frames\n",
        "print(df_usd.shape)\n",
        "print(df_price.shape)"
      ],
      "metadata": {
        "colab": {
          "base_uri": "https://localhost:8080/"
        },
        "id": "wIB6G3vz4UDA",
        "outputId": "4fa0ce79-a44f-4cff-e9bc-a1afd9270efb"
      },
      "execution_count": 81,
      "outputs": [
        {
          "output_type": "stream",
          "name": "stdout",
          "text": [
            "           Date  Price   Open   High    Low Vol. Change %\n",
            "0  Sep 17, 2014  84.34  84.10  84.78  83.94    -    0.32%\n",
            "1  Sep 18, 2014  84.32  84.80  84.74  84.22    -   -0.02%\n",
            "2  Sep 19, 2014  84.73  84.28  84.80  84.23    -    0.49%\n",
            "3  Sep 22, 2014  84.75  84.78  84.86  84.52    -    0.02%\n",
            "4  Sep 23, 2014  84.66  84.68  84.76  84.36    -   -0.11%\n",
            "5  Sep 24, 2014  85.04  84.71  85.09  84.60    -    0.45%\n",
            "6  Sep 25, 2014  85.19  85.10  85.48  85.05    -    0.18%\n",
            "7  Sep 26, 2014  85.64  85.14  85.69  85.11    -    0.53%\n",
            "8  Sep 29, 2014  85.59  85.62  85.80  85.46    -   -0.06%\n",
            "9  Sep 30, 2014  85.94  85.61  86.22  85.49    -    0.41%\n",
            "(1963, 2)\n",
            "(2747, 2)\n"
          ]
        }
      ]
    },
    {
      "cell_type": "markdown",
      "source": [
        "## As we see the shapes do not match, we notice that USD index data is missing entries for weekend days, we will fill this data with values from Friday."
      ],
      "metadata": {
        "id": "mkR8zykzvZxq"
      }
    },
    {
      "cell_type": "code",
      "source": [
        "N = df_usd.shape[0]\n",
        "usd_list = df_usd.to_numpy() # change for numpy array\n",
        "\n",
        "# add data for the weekend\n",
        "usd_data =[]\n",
        "for i in range(3, N, 5):\n",
        "  if(i>=5):\n",
        "    usd_data = np.vstack((usd_data, usd_list[i-5:i,:]))\n",
        "  else: # first week\n",
        "    usd_data = usd_list[0:i, :]\n",
        "  # copy Friday data\n",
        "  copy_friday =  deepcopy(usd_list[i-1,:])\n",
        "  # change the day\n",
        "  copy_friday[0] = datetime.strptime(copy_friday[0], \"%b %d, %Y\") + timedelta(days=1)\n",
        "  # add data for Saturday\n",
        "  usd_data = np.vstack((usd_data,copy_friday))\n",
        "  # move one day\n",
        "  copy_friday[0] = copy_friday[0] + timedelta(days=1)\n",
        "  # add data for Sunday\n",
        "  usd_data = np.vstack((usd_data,copy_friday))\n",
        "\n",
        "# we are missing data for the last 5 dys\n",
        "usd_data = np.vstack((usd_data,usd_list[-5:,:]))\n",
        "# print length to check if it matches \n",
        "print(len(usd_data))"
      ],
      "metadata": {
        "colab": {
          "base_uri": "https://localhost:8080/"
        },
        "id": "Gyrzo5FyOvgo",
        "outputId": "674c5346-5abb-40e9-e8a0-ba51ffd10712"
      },
      "execution_count": 82,
      "outputs": [
        {
          "output_type": "stream",
          "name": "stdout",
          "text": [
            "2747\n"
          ]
        }
      ]
    },
    {
      "cell_type": "code",
      "source": [
        "df_usd_extended = pd.DataFrame(usd_data)"
      ],
      "metadata": {
        "id": "A_o9DCS3JBVH"
      },
      "execution_count": 83,
      "outputs": []
    },
    {
      "cell_type": "markdown",
      "source": [
        "## Load litecoin and riple data"
      ],
      "metadata": {
        "id": "5tyz91NY5Hvw"
      }
    },
    {
      "cell_type": "code",
      "source": [
        "df_ltc = pd.read_csv('/content/drive/MyDrive/model-based/LTC-USD.csv', parse_dates=True) \n",
        "print(df_ltc.head(10))\n",
        "# remove unnecessary columns\n",
        "df_ltc =df_ltc.drop(columns=[\"Open\", \"High\", \"Low\", \"Close\", \"Volume\"])\n",
        "df_xrp = pd.read_csv('/content/drive/MyDrive/model-based/XRP-USD.csv', parse_dates=True) \n",
        "print(df_xrp.head(10))\n",
        "# remove unnecessary columns\n",
        "df_xrp =df_xrp.drop(columns=[\"Open\", \"High\", \"Low\", \"Close\", \"Volume\"])"
      ],
      "metadata": {
        "colab": {
          "base_uri": "https://localhost:8080/"
        },
        "id": "ifWbn2ek5Gvd",
        "outputId": "7501b54e-04c7-484a-cd57-c80f56d9004b"
      },
      "execution_count": 86,
      "outputs": [
        {
          "output_type": "stream",
          "name": "stdout",
          "text": [
            "         Date     Open     High      Low    Close  Adj Close   Volume\n",
            "0  2014-09-17  5.08589  5.17077  4.96595  5.05855    5.05855  3071840\n",
            "1  2014-09-18  5.06543  5.06543  4.57996  4.68523    4.68523  4569260\n",
            "2  2014-09-19  4.68729  4.75582  4.25435  4.32777    4.32777  3917450\n",
            "3  2014-09-20  4.32920  4.61608  4.20219  4.28644    4.28644  5490660\n",
            "4  2014-09-21  4.26307  4.30013  4.15499  4.24592    4.24592  2931220\n",
            "5  2014-09-22  4.24593  4.41688  4.21013  4.24235    4.24235  1855960\n",
            "6  2014-09-23  4.23999  4.88135  4.18887  4.74657    4.74657  4661670\n",
            "7  2014-09-24  4.74420  4.74512  4.62769  4.66679    4.66679  2662290\n",
            "8  2014-09-25  4.66588  4.67132  4.44870  4.51465    4.51465  2046960\n",
            "9  2014-09-26  4.50993  4.55182  4.38880  4.43359    4.43359  1548350\n",
            "         Date      Open      High       Low     Close  Adj Close      Volume\n",
            "0  2017-11-09  0.217911  0.221791  0.214866  0.217488   0.217488   147916992\n",
            "1  2017-11-10  0.218256  0.219068  0.205260  0.206483   0.206483   141032992\n",
            "2  2017-11-11  0.205948  0.214456  0.205459  0.210430   0.210430   134503008\n",
            "3  2017-11-12  0.210214  0.210214  0.195389  0.197339   0.197339   251175008\n",
            "4  2017-11-13  0.197472  0.204081  0.197456  0.203442   0.203442   132567000\n",
            "5  2017-11-14  0.203679  0.213693  0.203679  0.209825   0.209825   127361000\n",
            "6  2017-11-15  0.208937  0.213105  0.208058  0.212956   0.212956   100294000\n",
            "7  2017-11-16  0.212655  0.271790  0.209287  0.227107   0.227107  1022579968\n",
            "8  2017-11-17  0.224768  0.239409  0.220273  0.226581   0.226581   397071008\n",
            "9  2017-11-18  0.226547  0.230399  0.222399  0.228627   0.228627   144298000\n"
          ]
        }
      ]
    },
    {
      "cell_type": "code",
      "source": [
        "# merge data\n",
        "df_merged = df_price.join(df_usd_extended)\n",
        "df_merged = df_merged.join(df_ltc, rsuffix=\"_LTC\")\n",
        "# remove data before 2017-11-09\n",
        "df_merged[\"Date\"]= pd.to_datetime(df_merged['Date'])\n",
        "ripple_date = pd.Timestamp(2017,11,9)\n",
        "df_merged = df_merged[df_merged[\"Date\"] >= ripple_date]\n",
        "df_merged.reset_index(drop=True)\n",
        "df_xrp[\"Date\"]= pd.to_datetime(df_xrp['Date'])\n",
        "df_xrp.set_index(\"Date\")\n",
        "print(df_merged.iloc[-1,:])\n",
        "print(df_xrp.iloc[-1,:])\n",
        "df_merged = df_merged.merge(df_xrp, on=\"Date\", how=\"inner\", suffixes=(\"_BTC\",\"_XRP\"))\n",
        "print(df_merged.iloc[-1:,:])"
      ],
      "metadata": {
        "id": "XmJeoW3fFmAw",
        "colab": {
          "base_uri": "https://localhost:8080/"
        },
        "outputId": "a6692c50-96ee-45c1-e74d-113e795883f3"
      },
      "execution_count": 95,
      "outputs": [
        {
          "output_type": "stream",
          "name": "stdout",
          "text": [
            "Date             2022-03-25 00:00:00\n",
            "Adj Close               44395.964844\n",
            "0                       Mar 25, 2022\n",
            "1                              98.79\n",
            "Date_LTC                  2022-03-25\n",
            "Adj Close_LTC             124.067368\n",
            "Name: 2746, dtype: object\n",
            "Date         2022-03-25 00:00:00\n",
            "Adj Close               0.825127\n",
            "Name: 1597, dtype: object\n",
            "           Date  Adj Close_BTC             0      1    Date_LTC  \\\n",
            "1597 2022-03-25   44395.964844  Mar 25, 2022  98.79  2022-03-25   \n",
            "\n",
            "      Adj Close_LTC  Adj Close_XRP  \n",
            "1597     124.067368       0.825127  \n"
          ]
        }
      ]
    },
    {
      "cell_type": "code",
      "source": [
        "def f_h(carry, noise):\n",
        "  beta, h_prev= carry\n",
        "  h_t = beta*h_prev  + noise\n",
        "  h_prev = h_t\n",
        "  return (beta, h_prev), h_t"
      ],
      "metadata": {
        "id": "bIBPi48L9s_C"
      },
      "execution_count": 10,
      "outputs": []
    },
    {
      "cell_type": "code",
      "source": [
        "from torch.distributions import constraints\n",
        "import numpy\n",
        "\n",
        "def model(T, T_forecast, N=3, obs_btc_price=None, obs_usd_price=None, obs_volume=None):\n",
        "    # Define priors over beta, tau, sigma, z_1 (keep the shapes in mind)\n",
        "    beta = numpyro.sample(name=\"beta\", fn=dist.Normal(loc=jnp.zeros(N), scale=jnp.ones(N)*0.5))\n",
        "    r = numpyro.sample(name=\"r\", fn=dist.HalfCauchy(scale=jnp.ones(N)*8))\n",
        "    sigma = numpyro.sample(name=\"sigma\", fn=dist.HalfCauchy(scale=4))\n",
        "    y_prev = numpyro.sample(name=\"y_1\", fn=dist.Normal(loc=jnp.ones(N)*3, scale=jnp.ones(N)*15))\n",
        "    # Define LKJ prior\n",
        "    L_Omega = numpyro.sample(\"L_Omega\", dist.LKJCholesky(N, 10.))\n",
        "    Sigma_lower = jnp.matmul(jnp.diag(jnp.sqrt(r)), L_Omega) # lower cholesky factor of the covariance matrix\n",
        "    noises = numpyro.sample(\"noises\", fn=dist.MultivariateNormal(loc=jnp.zeros(N), scale_tril=Sigma_lower), sample_shape=(T+T_forecast-1,))\n",
        "    \n",
        "    # Propagate the dynamics forward using jax.lax.scan\n",
        "    carry = (beta, y_prev)\n",
        "    y_collection = [y_prev]\n",
        "    carry, ys_exp = lax.scan(f_h, carry, noises, T+T_forecast-1)\n",
        "    y_collection = jnp.concatenate((jnp.array(y_collection), ys_exp), axis=0)\n",
        "    \n",
        "\n",
        "    # Sample the observed y (y_obs) - BTC \n",
        "    numpyro.sample(name=\"y_obs_btc\", fn=dist.Normal(loc=y_collection[:T,0], scale=sigma), obs=obs_btc_price[:T])\n",
        "    numpyro.sample(name=\"y_pred_btc\", fn=dist.Normal(loc=y_collection[T:,0], scale=sigma), obs=None)\n",
        "    # Sampe y - USD index\n",
        "    numpyro.sample(name=\"y_obs_usd\", fn=dist.Normal(loc=y_collection[:T,1], scale=sigma), obs=obs_usd_price[:T])\n",
        "    numpyro.sample(name=\"y_pred_usd\", fn=dist.Normal(loc=y_collection[T:,1], scale=sigma), obs=None)\n",
        "    # Sampe z / z - volume\n",
        "    numpyro.sample(name=\"y_obs_volume\", fn=dist.Normal(loc=y_collection[:T,2], scale=sigma), obs=obs_volume[:T])\n",
        "    numpyro.sample(name=\"y_pred_volume\", fn=dist.Normal(loc=y_collection[T:,2], scale=sigma), obs=None)\n",
        "\n",
        "    return y_collection"
      ],
      "metadata": {
        "id": "-cgd2wYP_rA9"
      },
      "execution_count": 24,
      "outputs": []
    },
    {
      "cell_type": "markdown",
      "source": [
        "## Select vairables"
      ],
      "metadata": {
        "id": "-iRCWX0HohS6"
      }
    },
    {
      "cell_type": "code",
      "source": [
        "# select variables\n",
        "y_obs_btc = df_merged[\"Adj Close_BTC\"].values\n",
        "y_obs_usd = df_merged[1].values.astype(np.float64)\n",
        "y_obs_ltc = df_merged[\"Adj Close_LTC\"].values\n",
        "y_obs_xrp = df_merged[\"Adj Close_XRP\"].values\n",
        "T=60\n",
        "T_forecast=16\n",
        "y_obs_btc = y_obs_btc[-(T+T_forecast):]\n",
        "y_obs_usd = y_obs_usd[-(T+T_forecast):]\n",
        "y_obs_ltc = y_obs_ltc[-(T+T_forecast):]\n",
        "y_obs_xrp = y_obs_xrp[-(T+T_forecast):]\n",
        "print(len(y_obs_ltc))"
      ],
      "metadata": {
        "id": "ZkmgzDHARicc",
        "colab": {
          "base_uri": "https://localhost:8080/"
        },
        "outputId": "4261dffa-a1a1-4fe7-88ee-ff267c8bfb57"
      },
      "execution_count": 96,
      "outputs": [
        {
          "output_type": "stream",
          "name": "stdout",
          "text": [
            "76\n"
          ]
        }
      ]
    },
    {
      "cell_type": "markdown",
      "source": [
        "## Run the model"
      ],
      "metadata": {
        "id": "Az60jbAsofCe"
      }
    },
    {
      "cell_type": "code",
      "source": [
        "t0 = time.time()\n",
        "\n",
        "rng_key = random.PRNGKey(0)\n",
        "rng_key, rng_key_ = random.split(rng_key)\n",
        "\n",
        "nuts_kernel = NUTS(model=model)\n",
        "mcmc = MCMC(nuts_kernel, num_samples=1000, num_warmup=1000, num_chains=1)\n",
        "mcmc.run(rng_key_, T=T, T_forecast=T_forecast, N=3, obs_btc_price=y_obs_btc, obs_usd_price=y_obs_usd, obs_volume=y_obs_xrp)\n",
        "\n",
        "t_fin = time.time()\n",
        "\n",
        "print(\"Total time: {0:.3f}m\".format((t_fin - t0)/60))"
      ],
      "metadata": {
        "colab": {
          "base_uri": "https://localhost:8080/"
        },
        "id": "6CaM6CLKFbx1",
        "outputId": "84b257ed-29ea-406d-8149-831950fc4b67"
      },
      "execution_count": 97,
      "outputs": [
        {
          "output_type": "stream",
          "name": "stderr",
          "text": [
            "sample: 100%|██████████| 2000/2000 [00:18<00:00, 108.86it/s, 127 steps of size 8.06e-02. acc. prob=0.64]\n"
          ]
        },
        {
          "output_type": "stream",
          "name": "stdout",
          "text": [
            "Total time: 0.317m\n"
          ]
        }
      ]
    },
    {
      "cell_type": "code",
      "source": [
        "hmc_samples = {k: v for k, v in mcmc.get_samples().items()}"
      ],
      "metadata": {
        "id": "sifTVJ0xgMTU"
      },
      "execution_count": 98,
      "outputs": []
    },
    {
      "cell_type": "code",
      "source": [
        "# draw graph\n",
        "# numpyro.render_model(model, model_args=(T, T_forecast, 3, y_obs_btc, y_obs_usd, y_obs_volume))"
      ],
      "metadata": {
        "id": "3ts_gS0c8nys"
      },
      "execution_count": null,
      "outputs": []
    },
    {
      "cell_type": "markdown",
      "source": [
        "## Plot posteriors"
      ],
      "metadata": {
        "id": "yEm_fIfJoXWF"
      }
    },
    {
      "cell_type": "code",
      "source": [
        "nodes = [\"beta\", \"r\", \"sigma\"]\n",
        "for node in nodes:\n",
        "  if node == \"beta\":\n",
        "    for i in range(3):\n",
        "      plt.figure(figsize=(4,3))\n",
        "      sns.distplot(hmc_samples[node][:,i], label=node+\"%d\"%i)\n",
        "      plt.legend()\n",
        "    plt.show()\n",
        "  else:\n",
        "    plt.figure(figsize=(4,3))\n",
        "    sns.distplot(hmc_samples[node], label=node)\n",
        "    plt.legend()\n",
        "    plt.show()"
      ],
      "metadata": {
        "colab": {
          "base_uri": "https://localhost:8080/",
          "height": 1000
        },
        "id": "IYKVhFaUgbBg",
        "outputId": "f56f9767-781c-4da3-e2a1-2ff96fd0e405"
      },
      "execution_count": 99,
      "outputs": [
        {
          "output_type": "stream",
          "name": "stderr",
          "text": [
            "/usr/local/lib/python3.7/dist-packages/seaborn/distributions.py:2619: FutureWarning: `distplot` is a deprecated function and will be removed in a future version. Please adapt your code to use either `displot` (a figure-level function with similar flexibility) or `histplot` (an axes-level function for histograms).\n",
            "  warnings.warn(msg, FutureWarning)\n",
            "/usr/local/lib/python3.7/dist-packages/seaborn/distributions.py:2619: FutureWarning: `distplot` is a deprecated function and will be removed in a future version. Please adapt your code to use either `displot` (a figure-level function with similar flexibility) or `histplot` (an axes-level function for histograms).\n",
            "  warnings.warn(msg, FutureWarning)\n",
            "/usr/local/lib/python3.7/dist-packages/seaborn/distributions.py:2619: FutureWarning: `distplot` is a deprecated function and will be removed in a future version. Please adapt your code to use either `displot` (a figure-level function with similar flexibility) or `histplot` (an axes-level function for histograms).\n",
            "  warnings.warn(msg, FutureWarning)\n"
          ]
        },
        {
          "output_type": "display_data",
          "data": {
            "text/plain": [
              "<Figure size 288x216 with 1 Axes>"
            ],
            "image/png": "[encoded data removed]"
          },
          "metadata": {
            "needs_background": "light"
          }
        },
        {
          "output_type": "display_data",
          "data": {
            "text/plain": [
              "<Figure size 288x216 with 1 Axes>"
            ],
            "image/png": "[encoded data removed]"
          },
          "metadata": {
            "needs_background": "light"
          }
        },
        {
          "output_type": "display_data",
          "data": {
            "text/plain": [
              "<Figure size 288x216 with 1 Axes>"
            ],
            "image/png": "[encoded data removed]"
          },
          "metadata": {
            "needs_background": "light"
          }
        },
        {
          "output_type": "stream",
          "name": "stderr",
          "text": [
            "/usr/local/lib/python3.7/dist-packages/seaborn/distributions.py:2619: FutureWarning: `distplot` is a deprecated function and will be removed in a future version. Please adapt your code to use either `displot` (a figure-level function with similar flexibility) or `histplot` (an axes-level function for histograms).\n",
            "  warnings.warn(msg, FutureWarning)\n"
          ]
        },
        {
          "output_type": "display_data",
          "data": {
            "text/plain": [
              "<Figure size 288x216 with 1 Axes>"
            ],
            "image/png": "[encoded data removed]"
          },
          "metadata": {
            "needs_background": "light"
          }
        },
        {
          "output_type": "stream",
          "name": "stderr",
          "text": [
            "/usr/local/lib/python3.7/dist-packages/seaborn/distributions.py:2619: FutureWarning: `distplot` is a deprecated function and will be removed in a future version. Please adapt your code to use either `displot` (a figure-level function with similar flexibility) or `histplot` (an axes-level function for histograms).\n",
            "  warnings.warn(msg, FutureWarning)\n"
          ]
        },
        {
          "output_type": "display_data",
          "data": {
            "text/plain": [
              "<Figure size 288x216 with 1 Axes>"
            ],
            "image/png": "[encoded data removed]"
          },
          "metadata": {
            "needs_background": "light"
          }
        }
      ]
    },
    {
      "cell_type": "markdown",
      "source": [
        "## Get predicted values"
      ],
      "metadata": {
        "id": "c0w_LPO9oT65"
      }
    },
    {
      "cell_type": "code",
      "source": [
        "y_pred_btc = hmc_samples[\"y_pred_btc\"].mean(axis=0)\n",
        "print(y_pred_btc)\n",
        "print(y_obs_btc[T:])"
      ],
      "metadata": {
        "colab": {
          "base_uri": "https://localhost:8080/"
        },
        "id": "YPQj1qTVhVbD",
        "outputId": "5b053480-f7ae-4c44-8c41-8ee864ccade5"
      },
      "execution_count": 100,
      "outputs": [
        {
          "output_type": "stream",
          "name": "stdout",
          "text": [
            "[ 1936.2169   1227.8193   1283.4734   -209.29314    41.24073   232.78947\n",
            "  -865.74194  -408.28186 -1488.2844   2006.8606  -1006.3377   1005.30206\n",
            "   129.74675  -104.32839 -1150.9766   1796.4131 ]\n",
            "[39437.460938 38794.972656 38904.011719 37849.664063 39666.753906\n",
            " 39338.785156 41143.929688 40951.378906 41801.15625  42190.652344\n",
            " 41247.824219 41077.996094 42358.808594 42892.957031 43960.933594\n",
            " 44395.964844]\n"
          ]
        }
      ]
    },
    {
      "cell_type": "markdown",
      "source": [
        "## Plot predictions and true values"
      ],
      "metadata": {
        "id": "06zWz0B8oOe5"
      }
    },
    {
      "cell_type": "code",
      "source": [
        "plt.plot(y_obs_btc[T:], \"bx\")\n",
        "plt.plot(y_pred_btc,\"rx\")\n",
        "plt.legend([\"Observed\", \"Predict\"])\n",
        "plt.show()"
      ],
      "metadata": {
        "colab": {
          "base_uri": "https://localhost:8080/",
          "height": 592
        },
        "id": "y_4pqOXGhFd2",
        "outputId": "aa76bfdd-1807-4a47-ec1d-6c558ad445da"
      },
      "execution_count": 101,
      "outputs": [
        {
          "output_type": "display_data",
          "data": {
            "text/plain": [
              "<Figure size 1152x720 with 1 Axes>"
            ],
            "image/png": "[encoded data removed]"
          },
          "metadata": {
            "needs_background": "light"
          }
        }
      ]
    }
  ]
}